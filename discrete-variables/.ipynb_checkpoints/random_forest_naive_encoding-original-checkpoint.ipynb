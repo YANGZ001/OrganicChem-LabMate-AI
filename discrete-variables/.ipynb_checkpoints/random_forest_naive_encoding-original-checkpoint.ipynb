{
 "cells": [
  {
   "cell_type": "markdown",
   "metadata": {},
   "source": [
    "#  Identifying optimized conditions for chemical reactions."
   ]
  },
  {
   "cell_type": "code",
   "execution_count": 2,
   "metadata": {},
   "outputs": [
    {
     "name": "stderr",
     "output_type": "stream",
     "text": [
      "C:\\Users\\Lenovo\\Anaconda3\\lib\\site-packages\\sklearn\\externals\\joblib\\__init__.py:15: DeprecationWarning: sklearn.externals.joblib is deprecated in 0.21 and will be removed in 0.23. Please import this functionality directly from joblib, which can be installed with: pip install joblib. If this warning is raised when loading pickled models, you may need to re-serialize those models with scikit-learn 0.21+.\n",
      "  warnings.warn(msg, category=DeprecationWarning)\n"
     ]
    }
   ],
   "source": [
    "import numpy as np\n",
    "import pandas as pd\n",
    "from sklearn.model_selection import KFold\n",
    "from sklearn.ensemble import RandomForestRegressor\n",
    "from sklearn.model_selection import GridSearchCV\n",
    "from sklearn.externals.joblib import dump\n",
    "import matplotlib.pyplot as plt\n",
    "import time\n",
    "from sklearn import model_selection\n",
    "from sklearn.calibration import calibration_curve \n",
    "import matplotlib.lines as mlines\n",
    "import matplotlib.transforms as mtransforms"
   ]
  },
  {
   "cell_type": "markdown",
   "metadata": {},
   "source": [
    "###  Data description\n",
    "\n",
    "For thsi first try we have represented the data with the very naive encoding : \n",
    "\n",
    "$$ \\text{ The reaction with }  (\\text{Ligande}_{i},\\text{Base}_j, \\text{substracte}_k)  \\Longrightarrow  (i,j,k) \\in [|1,20|] \\times [|1,6|] \\times [|1,4|] $$\n"
   ]
  },
  {
   "cell_type": "code",
   "execution_count": 4,
   "metadata": {},
   "outputs": [
    {
     "ename": "KeyError",
     "evalue": "'yield'",
     "output_type": "error",
     "traceback": [
      "\u001b[1;31m---------------------------------------------------------------------------\u001b[0m",
      "\u001b[1;31mKeyError\u001b[0m                                  Traceback (most recent call last)",
      "\u001b[1;32m~\\Anaconda3\\lib\\site-packages\\pandas\\core\\indexes\\base.py\u001b[0m in \u001b[0;36mget_loc\u001b[1;34m(self, key, method, tolerance)\u001b[0m\n\u001b[0;32m   2656\u001b[0m             \u001b[1;32mtry\u001b[0m\u001b[1;33m:\u001b[0m\u001b[1;33m\u001b[0m\u001b[1;33m\u001b[0m\u001b[0m\n\u001b[1;32m-> 2657\u001b[1;33m                 \u001b[1;32mreturn\u001b[0m \u001b[0mself\u001b[0m\u001b[1;33m.\u001b[0m\u001b[0m_engine\u001b[0m\u001b[1;33m.\u001b[0m\u001b[0mget_loc\u001b[0m\u001b[1;33m(\u001b[0m\u001b[0mkey\u001b[0m\u001b[1;33m)\u001b[0m\u001b[1;33m\u001b[0m\u001b[1;33m\u001b[0m\u001b[0m\n\u001b[0m\u001b[0;32m   2658\u001b[0m             \u001b[1;32mexcept\u001b[0m \u001b[0mKeyError\u001b[0m\u001b[1;33m:\u001b[0m\u001b[1;33m\u001b[0m\u001b[1;33m\u001b[0m\u001b[0m\n",
      "\u001b[1;32mpandas/_libs/index.pyx\u001b[0m in \u001b[0;36mpandas._libs.index.IndexEngine.get_loc\u001b[1;34m()\u001b[0m\n",
      "\u001b[1;32mpandas/_libs/index.pyx\u001b[0m in \u001b[0;36mpandas._libs.index.IndexEngine.get_loc\u001b[1;34m()\u001b[0m\n",
      "\u001b[1;32mpandas/_libs/hashtable_class_helper.pxi\u001b[0m in \u001b[0;36mpandas._libs.hashtable.PyObjectHashTable.get_item\u001b[1;34m()\u001b[0m\n",
      "\u001b[1;32mpandas/_libs/hashtable_class_helper.pxi\u001b[0m in \u001b[0;36mpandas._libs.hashtable.PyObjectHashTable.get_item\u001b[1;34m()\u001b[0m\n",
      "\u001b[1;31mKeyError\u001b[0m: 'yield'",
      "\nDuring handling of the above exception, another exception occurred:\n",
      "\u001b[1;31mKeyError\u001b[0m                                  Traceback (most recent call last)",
      "\u001b[1;32m<ipython-input-4-73e59be4f42d>\u001b[0m in \u001b[0;36m<module>\u001b[1;34m\u001b[0m\n\u001b[0;32m     11\u001b[0m         \u001b[1;34m'bases'\u001b[0m\u001b[1;33m:\u001b[0m \u001b[0mbases\u001b[0m \u001b[1;33m,\u001b[0m\u001b[1;33m\u001b[0m\u001b[1;33m\u001b[0m\u001b[0m\n\u001b[0;32m     12\u001b[0m         \u001b[1;34m'substrate'\u001b[0m\u001b[1;33m:\u001b[0m \u001b[0msubstrate\u001b[0m \u001b[1;33m,\u001b[0m\u001b[1;33m\u001b[0m\u001b[1;33m\u001b[0m\u001b[0m\n\u001b[1;32m---> 13\u001b[1;33m         'yield': df['yield'].values } \n\u001b[0m\u001b[0;32m     14\u001b[0m \u001b[1;31m# Convert the dictionary into DataFrame\u001b[0m\u001b[1;33m\u001b[0m\u001b[1;33m\u001b[0m\u001b[1;33m\u001b[0m\u001b[0m\n\u001b[0;32m     15\u001b[0m \u001b[0mdf_new\u001b[0m \u001b[1;33m=\u001b[0m \u001b[0mpd\u001b[0m\u001b[1;33m.\u001b[0m\u001b[0mDataFrame\u001b[0m\u001b[1;33m(\u001b[0m\u001b[0mdata\u001b[0m\u001b[1;33m)\u001b[0m\u001b[1;33m\u001b[0m\u001b[1;33m\u001b[0m\u001b[0m\n",
      "\u001b[1;32m~\\Anaconda3\\lib\\site-packages\\pandas\\core\\frame.py\u001b[0m in \u001b[0;36m__getitem__\u001b[1;34m(self, key)\u001b[0m\n\u001b[0;32m   2925\u001b[0m             \u001b[1;32mif\u001b[0m \u001b[0mself\u001b[0m\u001b[1;33m.\u001b[0m\u001b[0mcolumns\u001b[0m\u001b[1;33m.\u001b[0m\u001b[0mnlevels\u001b[0m \u001b[1;33m>\u001b[0m \u001b[1;36m1\u001b[0m\u001b[1;33m:\u001b[0m\u001b[1;33m\u001b[0m\u001b[1;33m\u001b[0m\u001b[0m\n\u001b[0;32m   2926\u001b[0m                 \u001b[1;32mreturn\u001b[0m \u001b[0mself\u001b[0m\u001b[1;33m.\u001b[0m\u001b[0m_getitem_multilevel\u001b[0m\u001b[1;33m(\u001b[0m\u001b[0mkey\u001b[0m\u001b[1;33m)\u001b[0m\u001b[1;33m\u001b[0m\u001b[1;33m\u001b[0m\u001b[0m\n\u001b[1;32m-> 2927\u001b[1;33m             \u001b[0mindexer\u001b[0m \u001b[1;33m=\u001b[0m \u001b[0mself\u001b[0m\u001b[1;33m.\u001b[0m\u001b[0mcolumns\u001b[0m\u001b[1;33m.\u001b[0m\u001b[0mget_loc\u001b[0m\u001b[1;33m(\u001b[0m\u001b[0mkey\u001b[0m\u001b[1;33m)\u001b[0m\u001b[1;33m\u001b[0m\u001b[1;33m\u001b[0m\u001b[0m\n\u001b[0m\u001b[0;32m   2928\u001b[0m             \u001b[1;32mif\u001b[0m \u001b[0mis_integer\u001b[0m\u001b[1;33m(\u001b[0m\u001b[0mindexer\u001b[0m\u001b[1;33m)\u001b[0m\u001b[1;33m:\u001b[0m\u001b[1;33m\u001b[0m\u001b[1;33m\u001b[0m\u001b[0m\n\u001b[0;32m   2929\u001b[0m                 \u001b[0mindexer\u001b[0m \u001b[1;33m=\u001b[0m \u001b[1;33m[\u001b[0m\u001b[0mindexer\u001b[0m\u001b[1;33m]\u001b[0m\u001b[1;33m\u001b[0m\u001b[1;33m\u001b[0m\u001b[0m\n",
      "\u001b[1;32m~\\Anaconda3\\lib\\site-packages\\pandas\\core\\indexes\\base.py\u001b[0m in \u001b[0;36mget_loc\u001b[1;34m(self, key, method, tolerance)\u001b[0m\n\u001b[0;32m   2657\u001b[0m                 \u001b[1;32mreturn\u001b[0m \u001b[0mself\u001b[0m\u001b[1;33m.\u001b[0m\u001b[0m_engine\u001b[0m\u001b[1;33m.\u001b[0m\u001b[0mget_loc\u001b[0m\u001b[1;33m(\u001b[0m\u001b[0mkey\u001b[0m\u001b[1;33m)\u001b[0m\u001b[1;33m\u001b[0m\u001b[1;33m\u001b[0m\u001b[0m\n\u001b[0;32m   2658\u001b[0m             \u001b[1;32mexcept\u001b[0m \u001b[0mKeyError\u001b[0m\u001b[1;33m:\u001b[0m\u001b[1;33m\u001b[0m\u001b[1;33m\u001b[0m\u001b[0m\n\u001b[1;32m-> 2659\u001b[1;33m                 \u001b[1;32mreturn\u001b[0m \u001b[0mself\u001b[0m\u001b[1;33m.\u001b[0m\u001b[0m_engine\u001b[0m\u001b[1;33m.\u001b[0m\u001b[0mget_loc\u001b[0m\u001b[1;33m(\u001b[0m\u001b[0mself\u001b[0m\u001b[1;33m.\u001b[0m\u001b[0m_maybe_cast_indexer\u001b[0m\u001b[1;33m(\u001b[0m\u001b[0mkey\u001b[0m\u001b[1;33m)\u001b[0m\u001b[1;33m)\u001b[0m\u001b[1;33m\u001b[0m\u001b[1;33m\u001b[0m\u001b[0m\n\u001b[0m\u001b[0;32m   2660\u001b[0m         \u001b[0mindexer\u001b[0m \u001b[1;33m=\u001b[0m \u001b[0mself\u001b[0m\u001b[1;33m.\u001b[0m\u001b[0mget_indexer\u001b[0m\u001b[1;33m(\u001b[0m\u001b[1;33m[\u001b[0m\u001b[0mkey\u001b[0m\u001b[1;33m]\u001b[0m\u001b[1;33m,\u001b[0m \u001b[0mmethod\u001b[0m\u001b[1;33m=\u001b[0m\u001b[0mmethod\u001b[0m\u001b[1;33m,\u001b[0m \u001b[0mtolerance\u001b[0m\u001b[1;33m=\u001b[0m\u001b[0mtolerance\u001b[0m\u001b[1;33m)\u001b[0m\u001b[1;33m\u001b[0m\u001b[1;33m\u001b[0m\u001b[0m\n\u001b[0;32m   2661\u001b[0m         \u001b[1;32mif\u001b[0m \u001b[0mindexer\u001b[0m\u001b[1;33m.\u001b[0m\u001b[0mndim\u001b[0m \u001b[1;33m>\u001b[0m \u001b[1;36m1\u001b[0m \u001b[1;32mor\u001b[0m \u001b[0mindexer\u001b[0m\u001b[1;33m.\u001b[0m\u001b[0msize\u001b[0m \u001b[1;33m>\u001b[0m \u001b[1;36m1\u001b[0m\u001b[1;33m:\u001b[0m\u001b[1;33m\u001b[0m\u001b[1;33m\u001b[0m\u001b[0m\n",
      "\u001b[1;32mpandas/_libs/index.pyx\u001b[0m in \u001b[0;36mpandas._libs.index.IndexEngine.get_loc\u001b[1;34m()\u001b[0m\n",
      "\u001b[1;32mpandas/_libs/index.pyx\u001b[0m in \u001b[0;36mpandas._libs.index.IndexEngine.get_loc\u001b[1;34m()\u001b[0m\n",
      "\u001b[1;32mpandas/_libs/hashtable_class_helper.pxi\u001b[0m in \u001b[0;36mpandas._libs.hashtable.PyObjectHashTable.get_item\u001b[1;34m()\u001b[0m\n",
      "\u001b[1;32mpandas/_libs/hashtable_class_helper.pxi\u001b[0m in \u001b[0;36mpandas._libs.hashtable.PyObjectHashTable.get_item\u001b[1;34m()\u001b[0m\n",
      "\u001b[1;31mKeyError\u001b[0m: 'yield'"
     ]
    }
   ],
   "source": [
    "dfs = pd.read_excel('Raw data compiled HTE.xlsx', sheet_name=None)\n",
    "df = dfs['Normalized yields']\n",
    "\n",
    "\n",
    "ligandes =  np.arange(1,21).tolist()*6*4\n",
    "bases =   ([1]*20 + [2]*20 + [3]*20 + [4]*20 + [5]*20 + [6]*20)*4 \n",
    "substrate = [1]*120 + [2]*120 + [3]*120 + [4]*120 \n",
    "\n",
    "# Define a dictionary containing Students data \n",
    "data = {'ligandes': ligandes, \n",
    "        'bases': bases ,\n",
    "        'substrate': substrate ,\n",
    "        'yield': df['yield'].values } \n",
    "# Convert the dictionary into DataFrame \n",
    "df_new = pd.DataFrame(data) \n",
    "\n",
    "\n",
    "array = df_new.values\n",
    "X = array[:,:-1] \n",
    "Y = array[:,-1] \n",
    "\n",
    "\n",
    "\n",
    "nbr_samples = 100\n",
    "random_data = df_new.sample(n=nbr_samples, random_state=1) # do i need to sample with specific way : like samplefrom ligande ? \n",
    "df_random_data = pd.DataFrame(random_data)\n",
    "\n",
    "\n",
    "array_random = df_random_data.values\n",
    "X_sample = array_random[:,:-1] \n",
    "Y_sample = array_random[:,-1] \n",
    "\n",
    "\n",
    "\n",
    "df_train_corrected = df_random_data.iloc[:,:-1]\n",
    "unseen = pd.concat([df_new.iloc[:,:-1], df_train_corrected]).drop_duplicates(keep=False)\n",
    "X2 = unseen.values\n",
    "\n",
    "df_all_combos2 =  df_new.iloc[:,:-1]\n",
    "df_all_combos2.head()\n",
    "\n",
    "df_new.head()"
   ]
  },
  {
   "cell_type": "markdown",
   "metadata": {},
   "source": [
    "### the hyperpaaramters : Number of estimators, max_features and max_depth "
   ]
  },
  {
   "cell_type": "markdown",
   "metadata": {},
   "source": [
    "#### the grid of the hyperparameters setting "
   ]
  },
  {
   "cell_type": "code",
   "execution_count": 7,
   "metadata": {},
   "outputs": [],
   "source": [
    "seed = 1  \n",
    "kfold = KFold(n_splits = 10, shuffle=True)\n",
    "scoring = 'neg_mean_absolute_error'\n",
    "model = RandomForestRegressor(random_state=seed)\n",
    "estimators = np.arange(100, 1050, 50)\n",
    "estimators_int = np.ndarray.tolist(estimators)\n",
    "param_grid = {'n_estimators':estimators_int, 'max_features':('auto', 'sqrt'), 'max_depth':[None, 2, 4]}\n",
    "\n"
   ]
  },
  {
   "cell_type": "markdown",
   "metadata": {},
   "source": [
    "#### finding the best parametres "
   ]
  },
  {
   "cell_type": "code",
   "execution_count": 9,
   "metadata": {},
   "outputs": [],
   "source": [
    "def best_params(model,param_grid,scoring,kfold,X_sample, Y_sample):\n",
    "    grid = GridSearchCV(estimator=model, param_grid=param_grid, scoring=scoring, cv=kfold, n_jobs=6)\n",
    "    grid_result = grid.fit(X_sample, Y_sample)\n",
    "    np.savetxt('best_score.txt', [\"best_score: %s\" % grid.best_score_], fmt ='%s')\n",
    "    best_params = pd.DataFrame([grid.best_params_], columns=grid.best_params_.keys())\n",
    "    return grid\n",
    "grid = best_params(model,param_grid,scoring,kfold,X_sample,Y_sample)"
   ]
  },
  {
   "cell_type": "code",
   "execution_count": 12,
   "metadata": {},
   "outputs": [
    {
     "data": {
      "text/plain": [
       "(1000, 'sqrt', None)"
      ]
     },
     "execution_count": 12,
     "metadata": {},
     "output_type": "execute_result"
    }
   ],
   "source": [
    "grid.best_params_['n_estimators'],grid.best_params_['max_features'],grid.best_params_['max_depth']"
   ]
  },
  {
   "cell_type": "markdown",
   "metadata": {},
   "source": [
    "### Feature selection / Feature importance \n",
    "\n",
    "The importance of a feature is the increase in the prediction error of the model after we permuted the feature’s values, which breaks the relationship between the feature and the true outcome.\n",
    "\n",
    "\n",
    "A feature is “important” if shuffling its values increases the model error, because in this case the model relied on the feature for the prediction. "
   ]
  },
  {
   "cell_type": "code",
   "execution_count": 49,
   "metadata": {},
   "outputs": [
    {
     "data": {
      "text/html": [
       "<div>\n",
       "<style scoped>\n",
       "    .dataframe tbody tr th:only-of-type {\n",
       "        vertical-align: middle;\n",
       "    }\n",
       "\n",
       "    .dataframe tbody tr th {\n",
       "        vertical-align: top;\n",
       "    }\n",
       "\n",
       "    .dataframe thead th {\n",
       "        text-align: right;\n",
       "    }\n",
       "</style>\n",
       "<table border=\"1\" class=\"dataframe\">\n",
       "  <thead>\n",
       "    <tr style=\"text-align: right;\">\n",
       "      <th></th>\n",
       "      <th>Feature_importances</th>\n",
       "    </tr>\n",
       "  </thead>\n",
       "  <tbody>\n",
       "    <tr>\n",
       "      <th>ligandes</th>\n",
       "      <td>0.569754</td>\n",
       "    </tr>\n",
       "    <tr>\n",
       "      <th>substrate</th>\n",
       "      <td>0.241871</td>\n",
       "    </tr>\n",
       "    <tr>\n",
       "      <th>bases</th>\n",
       "      <td>0.188375</td>\n",
       "    </tr>\n",
       "  </tbody>\n",
       "</table>\n",
       "</div>"
      ],
      "text/plain": [
       "           Feature_importances\n",
       "ligandes              0.569754\n",
       "substrate             0.241871\n",
       "bases                 0.188375"
      ]
     },
     "execution_count": 49,
     "metadata": {},
     "output_type": "execute_result"
    }
   ],
   "source": [
    "def feature_selection(X=X,Y=Y,X2=X2): \n",
    "    model2 = RandomForestRegressor(n_estimators = grid.best_params_['n_estimators'], max_features = grid.best_params_['max_features'], max_depth = grid.best_params_['max_depth'])\n",
    "    RF_fit = model2.fit(X, Y)\n",
    "    predictions = model2.predict(X2)\n",
    "    predictions_df = pd.DataFrame(data=predictions, columns=['Prediction'])\n",
    "    feat_imp = pd.DataFrame(model2.feature_importances_, index=list(df_all_combos2.columns.values), columns=['Feature_importances'])\n",
    "    feat_imp = feat_imp.sort_values(by=['Feature_importances'], ascending = False)\n",
    "    index=list(df_all_combos2.columns.values)\n",
    "    return feat_imp\n",
    "\n",
    "feat_imp = feature_selection(X=X,Y=Y,X2=X2)\n",
    "feat_imp\n",
    "\n"
   ]
  },
  {
   "cell_type": "code",
   "execution_count": 51,
   "metadata": {},
   "outputs": [
    {
     "data": {
      "image/png": "[encoded data removed]",
      "text/plain": [
       "<Figure size 432x288 with 1 Axes>"
      ]
     },
     "metadata": {
      "needs_background": "light"
     },
     "output_type": "display_data"
    }
   ],
   "source": [
    "ax = feat_imp.plot.bar(rot=0)"
   ]
  },
  {
   "cell_type": "markdown",
   "metadata": {},
   "source": [
    "### calculates variances for the predictions\n",
    "\n",
    "calculates variances for the predictions, which allows prioritizing the next best experiment, and creates a table with all the generated information. "
   ]
  },
  {
   "cell_type": "code",
   "execution_count": 38,
   "metadata": {
    "scrolled": true
   },
   "outputs": [
    {
     "data": {
      "text/html": [
       "<div>\n",
       "<style scoped>\n",
       "    .dataframe tbody tr th:only-of-type {\n",
       "        vertical-align: middle;\n",
       "    }\n",
       "\n",
       "    .dataframe tbody tr th {\n",
       "        vertical-align: top;\n",
       "    }\n",
       "\n",
       "    .dataframe thead th {\n",
       "        text-align: right;\n",
       "    }\n",
       "</style>\n",
       "<table border=\"1\" class=\"dataframe\">\n",
       "  <thead>\n",
       "    <tr style=\"text-align: right;\">\n",
       "      <th></th>\n",
       "      <th>ligandes</th>\n",
       "      <th>bases</th>\n",
       "      <th>substrate</th>\n",
       "      <th>Prediction</th>\n",
       "      <th>Variance</th>\n",
       "    </tr>\n",
       "  </thead>\n",
       "  <tbody>\n",
       "    <tr>\n",
       "      <th>0</th>\n",
       "      <td>1</td>\n",
       "      <td>1</td>\n",
       "      <td>1</td>\n",
       "      <td>0.245449</td>\n",
       "      <td>0.026264</td>\n",
       "    </tr>\n",
       "    <tr>\n",
       "      <th>1</th>\n",
       "      <td>2</td>\n",
       "      <td>1</td>\n",
       "      <td>1</td>\n",
       "      <td>0.223650</td>\n",
       "      <td>0.033392</td>\n",
       "    </tr>\n",
       "    <tr>\n",
       "      <th>2</th>\n",
       "      <td>3</td>\n",
       "      <td>1</td>\n",
       "      <td>1</td>\n",
       "      <td>0.547016</td>\n",
       "      <td>0.057856</td>\n",
       "    </tr>\n",
       "    <tr>\n",
       "      <th>3</th>\n",
       "      <td>4</td>\n",
       "      <td>1</td>\n",
       "      <td>1</td>\n",
       "      <td>0.172491</td>\n",
       "      <td>0.038834</td>\n",
       "    </tr>\n",
       "    <tr>\n",
       "      <th>4</th>\n",
       "      <td>8</td>\n",
       "      <td>1</td>\n",
       "      <td>1</td>\n",
       "      <td>0.063295</td>\n",
       "      <td>0.008602</td>\n",
       "    </tr>\n",
       "  </tbody>\n",
       "</table>\n",
       "</div>"
      ],
      "text/plain": [
       "   ligandes  bases  substrate  Prediction  Variance\n",
       "0         1      1          1    0.245449  0.026264\n",
       "1         2      1          1    0.223650  0.033392\n",
       "2         3      1          1    0.547016  0.057856\n",
       "3         4      1          1    0.172491  0.038834\n",
       "4         8      1          1    0.063295  0.008602"
      ]
     },
     "execution_count": 38,
     "metadata": {},
     "output_type": "execute_result"
    }
   ],
   "source": [
    "def variance_predictions(model2,X2,X,Y):\n",
    "    all_predictions = []\n",
    "    model2.fit(X, Y)\n",
    "    for e in model2.estimators_:\n",
    "        all_predictions += [e.predict(X2)]\n",
    "    \n",
    "    variance = np.var(all_predictions, axis=0)\n",
    "    variance_df = pd.DataFrame(data=variance, columns=['Variance'])\n",
    "    predictions = model2.predict(X2)\n",
    "    predictions_df = pd.DataFrame(data=predictions, columns=['Prediction'])\n",
    "    assert len(variance) == len(predictions) # control line\n",
    "    initial_data = pd.DataFrame(data=X2, columns = list(unseen.columns.values))\n",
    "    df = pd.concat([initial_data, predictions_df, variance_df], axis=1)\n",
    "    return df\n",
    "\n",
    "\n",
    "model2 = RandomForestRegressor(n_estimators = grid.best_params_['n_estimators'], max_features = grid.best_params_['max_features'], max_depth = grid.best_params_['max_depth'], random_state = seed)\n",
    "df = variance_predictions(model2,X2,X,Y)\n",
    "df.head()"
   ]
  },
  {
   "cell_type": "markdown",
   "metadata": {},
   "source": [
    "### selects the next reaction to be performed\n",
    "\n",
    "we need to find the top rows by :\n",
    "    1. Low variance first\n",
    "    2. most important feature second (descending order) for overlapping predictions"
   ]
  },
  {
   "cell_type": "code",
   "execution_count": 39,
   "metadata": {},
   "outputs": [],
   "source": [
    "def next_reaction(model2,X2,X,Y):\n",
    "    df = variance_predictions(model2,X2,X,Y)\n",
    "    feat_imp = feature_selection(X=X,Y=Y,X2=X2)[0]\n",
    "    feat_imp_T = feat_imp.transpose() # creates a table with a single row stating the importance (0-1 scale) of each variable\n",
    "    keys1 = list(feat_imp_T.keys()) # collects the names of the features\n",
    "    keys2 = list(feat_imp_T.keys()) # same as above\n",
    "    keys1.insert(7,'Prediction') # Inserts \"Prediction\" in position 7 of the previously generated list\n",
    "    keys2.insert(7, 'Variance') # Inserts \"Variance\" in position 7 of the previously generated list\n",
    "    df_sorted = df.sort_values(by=[keys1[-1], keys1[0]], ascending=[False, False]) # Fetches the table with the predictions and variance and sorts: 1) high prediction first; 2) most important feature second (descending order) for overlapping predictions\n",
    "    preliminary = df_sorted.iloc[0:5] # Collects the first five columns\n",
    "    df_sorted2 = preliminary.sort_values(by=[keys2[-1], keys2[0]], ascending=[True, False]) # Sorts the top five rows by: 1) Low variance first; 2) most important feature second (descending order) for overlapping predictions\n",
    "    toPerform = df_sorted2.iloc[0] # First row is the selected reaction\n",
    "    return preliminary,df_sorted2,toPerform\n",
    "\n",
    "\n",
    "\n",
    "Next_reaction = next_reaction(model2=model2,X2=X2,X=X_sample,Y=Y_sample)\n",
    "\n",
    "\n",
    "\n",
    "\n"
   ]
  },
  {
   "cell_type": "code",
   "execution_count": 40,
   "metadata": {},
   "outputs": [
    {
     "data": {
      "text/html": [
       "<div>\n",
       "<style scoped>\n",
       "    .dataframe tbody tr th:only-of-type {\n",
       "        vertical-align: middle;\n",
       "    }\n",
       "\n",
       "    .dataframe tbody tr th {\n",
       "        vertical-align: top;\n",
       "    }\n",
       "\n",
       "    .dataframe thead th {\n",
       "        text-align: right;\n",
       "    }\n",
       "</style>\n",
       "<table border=\"1\" class=\"dataframe\">\n",
       "  <thead>\n",
       "    <tr style=\"text-align: right;\">\n",
       "      <th></th>\n",
       "      <th>ligandes</th>\n",
       "      <th>bases</th>\n",
       "      <th>substrate</th>\n",
       "      <th>Prediction</th>\n",
       "      <th>Variance</th>\n",
       "    </tr>\n",
       "  </thead>\n",
       "  <tbody>\n",
       "    <tr>\n",
       "      <th>40</th>\n",
       "      <td>10</td>\n",
       "      <td>3</td>\n",
       "      <td>1</td>\n",
       "      <td>0.686319</td>\n",
       "      <td>0.068637</td>\n",
       "    </tr>\n",
       "    <tr>\n",
       "      <th>23</th>\n",
       "      <td>9</td>\n",
       "      <td>2</td>\n",
       "      <td>1</td>\n",
       "      <td>0.615654</td>\n",
       "      <td>0.117342</td>\n",
       "    </tr>\n",
       "    <tr>\n",
       "      <th>39</th>\n",
       "      <td>9</td>\n",
       "      <td>3</td>\n",
       "      <td>1</td>\n",
       "      <td>0.609583</td>\n",
       "      <td>0.053199</td>\n",
       "    </tr>\n",
       "    <tr>\n",
       "      <th>22</th>\n",
       "      <td>8</td>\n",
       "      <td>2</td>\n",
       "      <td>1</td>\n",
       "      <td>0.583781</td>\n",
       "      <td>0.120291</td>\n",
       "    </tr>\n",
       "    <tr>\n",
       "      <th>191</th>\n",
       "      <td>12</td>\n",
       "      <td>6</td>\n",
       "      <td>2</td>\n",
       "      <td>0.556938</td>\n",
       "      <td>0.045634</td>\n",
       "    </tr>\n",
       "  </tbody>\n",
       "</table>\n",
       "</div>"
      ],
      "text/plain": [
       "     ligandes  bases  substrate  Prediction  Variance\n",
       "40         10      3          1    0.686319  0.068637\n",
       "23          9      2          1    0.615654  0.117342\n",
       "39          9      3          1    0.609583  0.053199\n",
       "22          8      2          1    0.583781  0.120291\n",
       "191        12      6          2    0.556938  0.045634"
      ]
     },
     "execution_count": 40,
     "metadata": {},
     "output_type": "execute_result"
    }
   ],
   "source": [
    "preliminary = Next_reaction[0]\n",
    "preliminary"
   ]
  },
  {
   "cell_type": "code",
   "execution_count": 279,
   "metadata": {},
   "outputs": [
    {
     "data": {
      "text/plain": [
       "ligandes      12.000000\n",
       "bases          4.000000\n",
       "substrate      1.000000\n",
       "Prediction     0.465186\n",
       "Variance       0.025555\n",
       "Name: 32, dtype: float64"
      ]
     },
     "execution_count": 279,
     "metadata": {},
     "output_type": "execute_result"
    }
   ],
   "source": [
    "df_sorted2 = Next_reaction[2] \n",
    "df_sorted2"
   ]
  },
  {
   "cell_type": "code",
   "execution_count": 281,
   "metadata": {},
   "outputs": [
    {
     "data": {
      "text/plain": [
       "0.4651860712562131"
      ]
     },
     "execution_count": 281,
     "metadata": {},
     "output_type": "execute_result"
    }
   ],
   "source": [
    "toPerform = Next_reaction[2]\n",
    "toPerform[3] \n"
   ]
  },
  {
   "cell_type": "code",
   "execution_count": 301,
   "metadata": {},
   "outputs": [
    {
     "data": {
      "text/plain": [
       "413    0.211986\n",
       "Name: yield, dtype: float64"
      ]
     },
     "execution_count": 301,
     "metadata": {},
     "output_type": "execute_result"
    }
   ],
   "source": [
    "real_yield = df_new.loc[df_new['ligandes'] == toPerform[0]].loc[df_new[\"bases\"] == toPerform[1]].loc[df_new[\"substrate\"] == toPerform[2]]['yield']\n",
    "predicted_yield = toPerform[3]\n",
    "error = abs(real_yield - predicted_yield )\n",
    "\n",
    "error"
   ]
  },
  {
   "cell_type": "markdown",
   "metadata": {},
   "source": [
    "### the improvment of the yield "
   ]
  },
  {
   "cell_type": "code",
   "execution_count": 305,
   "metadata": {},
   "outputs": [],
   "source": [
    "def test(nbr_samples  , max_iter  ):\n",
    "    \n",
    "    \n",
    "    model2 = RandomForestRegressor(n_estimators = grid.best_params_['n_estimators'], max_features = grid.best_params_['max_features'], max_depth = grid.best_params_['max_depth'])\n",
    "\n",
    "    \n",
    "    random_data = df_new.sample(n=nbr_samples) # do i need to sample with specific way : like samplefrom ligande ? \n",
    "    df_random_data = pd.DataFrame(random_data)\n",
    "    array_random = df_random_data.values\n",
    "    X_sample = array_random[:,:-1] \n",
    "    Y_sample = array_random[:,-1] \n",
    "\n",
    "\n",
    "\n",
    "    df_train_corrected = df_random_data.iloc[:,:-1]\n",
    "    unseen = pd.concat([df_new.iloc[:,:-1], df_train_corrected]).drop_duplicates(keep=False)\n",
    "    X2 = unseen.values\n",
    "\n",
    "\n",
    "\n",
    "    for i in range(max_iter): \n",
    "    \n",
    "    \n",
    "\n",
    "        Next_reaction = next_reaction(model2,X2,X_sample,Y_sample)\n",
    "        toPerform = Next_reaction[2]\n",
    " \n",
    "\n",
    "        X_sample = np.vstack((X_sample,toPerform[:3]))\n",
    "        real_yield = df_new.loc[df_new['ligandes'] == toPerform[0]].loc[df_new[\"bases\"] == toPerform[1]].loc[df_new[\"substrate\"] == toPerform[2]]['yield']\n",
    "        Y_sample = np.append(Y_sample,real_yield)\n",
    "\n",
    "\n",
    "        X_pd = pd.DataFrame(X_sample, columns=['ligandes', 'bases', 'substrate'], dtype=np.int8 )\n",
    "        df_train_corrected =  pd.concat([df_train_corrected, X_pd])\n",
    "        unseen = pd.concat([df_new.iloc[:,:-1], df_train_corrected]).drop_duplicates(keep=False)\n",
    "        X2 = unseen.values\n",
    "        \n",
    "    return Y_sample[nbr_samples:]\n",
    "\n",
    "\n",
    "    \n",
    "    \n",
    "    "
   ]
  },
  {
   "cell_type": "code",
   "execution_count": 313,
   "metadata": {},
   "outputs": [
    {
     "data": {
      "text/plain": [
       "<matplotlib.legend.Legend at 0x1a2401d7f0>"
      ]
     },
     "execution_count": 313,
     "metadata": {},
     "output_type": "execute_result"
    },
    {
     "data": {
      "image/png": "[encoded data removed]",
      "text/plain": [
       "<Figure size 432x288 with 1 Axes>"
      ]
     },
     "metadata": {
      "needs_background": "light"
     },
     "output_type": "display_data"
    }
   ],
   "source": [
    "y = test(72,20)\n",
    "plt.plot(np.maximum.accumulate(y),'ro-', label='random forest')\n",
    "plt.xlabel('Iteration')\n",
    "plt.ylabel(' yield')\n",
    "plt.legend()\n"
   ]
  },
  {
   "cell_type": "code",
   "execution_count": 52,
   "metadata": {},
   "outputs": [
    {
     "name": "stderr",
     "output_type": "stream",
     "text": [
      "/Users/soufiane/anaconda3/lib/python3.7/site-packages/ipykernel_launcher.py:7: DeprecationWarning: time.clock has been deprecated in Python 3.3 and will be removed from Python 3.8: use time.perf_counter or time.process_time instead\n",
      "  import sys\n"
     ]
    },
    {
     "ename": "NameError",
     "evalue": "name 'test' is not defined",
     "output_type": "error",
     "traceback": [
      "\u001b[0;31m---------------------------------------------------------------------------\u001b[0m",
      "\u001b[0;31mNameError\u001b[0m                                 Traceback (most recent call last)",
      "\u001b[0;32m<ipython-input-52-158b4d63d581>\u001b[0m in \u001b[0;36m<module>\u001b[0;34m\u001b[0m\n\u001b[1;32m      9\u001b[0m \u001b[0;34m\u001b[0m\u001b[0m\n\u001b[1;32m     10\u001b[0m \u001b[0;32mfor\u001b[0m \u001b[0mi\u001b[0m \u001b[0;32min\u001b[0m \u001b[0mrange\u001b[0m\u001b[0;34m(\u001b[0m\u001b[0mn_simu\u001b[0m\u001b[0;34m)\u001b[0m\u001b[0;34m:\u001b[0m\u001b[0;34m\u001b[0m\u001b[0;34m\u001b[0m\u001b[0m\n\u001b[0;32m---> 11\u001b[0;31m     \u001b[0mAv_RF\u001b[0m\u001b[0;34m.\u001b[0m\u001b[0mappend\u001b[0m\u001b[0;34m(\u001b[0m\u001b[0mnp\u001b[0m\u001b[0;34m.\u001b[0m\u001b[0mmaximum\u001b[0m\u001b[0;34m.\u001b[0m\u001b[0maccumulate\u001b[0m\u001b[0;34m(\u001b[0m\u001b[0mtest\u001b[0m\u001b[0;34m(\u001b[0m\u001b[0mnbr_samples\u001b[0m\u001b[0;34m,\u001b[0m\u001b[0mmax_iter\u001b[0m\u001b[0;34m)\u001b[0m\u001b[0;34m)\u001b[0m\u001b[0;34m)\u001b[0m\u001b[0;34m\u001b[0m\u001b[0;34m\u001b[0m\u001b[0m\n\u001b[0m\u001b[1;32m     12\u001b[0m \u001b[0;34m\u001b[0m\u001b[0m\n\u001b[1;32m     13\u001b[0m \u001b[0;34m\u001b[0m\u001b[0m\n",
      "\u001b[0;31mNameError\u001b[0m: name 'test' is not defined"
     ]
    }
   ],
   "source": [
    "nbr_samples = 10 \n",
    "n_simu = 10 \n",
    "max_iter = 15 \n",
    "Av_RF = [] \n",
    "\n",
    "\n",
    "start_time = time.clock()\n",
    "\n",
    "\n",
    "for i in range(n_simu):\n",
    "    Av_RF.append(np.maximum.accumulate(test(nbr_samples,max_iter)))\n",
    "    \n",
    "    \n",
    "av_RF = np.mean(np.array(Av_RF),axis =0)\n",
    "\n",
    "\n",
    "\n",
    "plt.plot(av_RF, 'bo-', label='random forest')\n",
    "plt.xlabel('Iteration')\n",
    "plt.ylabel('average yield')\n",
    "plt.legend()\n",
    "\n",
    "print((time.clock() - start_time)/60, \"min\")"
   ]
  },
  {
   "cell_type": "markdown",
   "metadata": {},
   "source": [
    "### Rialiblity plot : \n",
    "1. Groupe the predictions into bins  ( by the probability that thet model made) \n",
    "2. calculate the Fraction of the positives per bin \n",
    "3. calculate the confidence per bin :  $ Conf(B_m) =  \\frac{1}{|B_m|}\\sum_{i\\in B_m}\\hat{P}_i $"
   ]
  },
  {
   "cell_type": "code",
   "execution_count": 402,
   "metadata": {},
   "outputs": [],
   "source": [
    "dfs = pd.read_excel('/Users/soufiane/Documents/chem_project/Raw data compiled HTE.xlsx', sheet_name=None)\n",
    "df = dfs['Normalized yields']\n",
    "\n",
    "\n",
    "ligandes =  np.arange(1,21).tolist()*6*4\n",
    "bases =   ([1]*20 + [2]*20 + [3]*20 + [4]*20 + [5]*20 + [6]*20)*4 \n",
    "substrate = [1]*120 + [2]*120 + [3]*120 + [4]*120 \n",
    "\n",
    "# Define a dictionary containing Students data \n",
    "data = {'ligandes': ligandes, \n",
    "        'bases': bases ,\n",
    "        'substrate': substrate ,\n",
    "        'yield': df['yield'].values } \n",
    "# Convert the dictionary into DataFrame \n",
    "df_new = pd.DataFrame(data) \n",
    "    \n",
    "\n",
    "array = df_new.values\n",
    "X = array[:,:-1] \n",
    "Y = array[:,-1] "
   ]
  },
  {
   "cell_type": "markdown",
   "metadata": {},
   "source": [
    "#### Split the data into training and validation set "
   ]
  },
  {
   "cell_type": "code",
   "execution_count": 455,
   "metadata": {},
   "outputs": [],
   "source": [
    "feature_train, feature_test, label_train, label_test = ( \n",
    "    model_selection.train_test_split(\n",
    "    X,\n",
    "    Y,\n",
    "    test_size = 0.2\n",
    "    )\n",
    ")\n",
    "\n",
    "model2 = RandomForestRegressor(n_estimators = grid.best_params_['n_estimators'], max_features = grid.best_params_['max_features'], max_depth = grid.best_params_['max_depth'])\n",
    "RF_fit = model2.fit(feature_train,label_train)\n",
    "RF_prediction = RF_fit.predict(feature_test)\n"
   ]
  },
  {
   "cell_type": "markdown",
   "metadata": {},
   "source": [
    "### calibration plot \n",
    "\n",
    "A model is perfectly calibrated if, for any $p \\in [0,1]$, a predcition of a class with confidence $p$ is correct 100\\% of the time.  \n"
   ]
  },
  {
   "cell_type": "code",
   "execution_count": 487,
   "metadata": {},
   "outputs": [
    {
     "data": {
      "image/png": "[encoded data removed]",
      "text/plain": [
       "<Figure size 432x288 with 1 Axes>"
      ]
     },
     "metadata": {
      "needs_background": "light"
     },
     "output_type": "display_data"
    }
   ],
   "source": [
    "feature_train, feature_test, label_train, label_test = (model_selection.train_test_split(X,Y,test_size = 0.2))\n",
    "model2 = RandomForestRegressor(n_estimators = grid.best_params_['n_estimators'], max_features = grid.best_params_['max_features'], max_depth = grid.best_params_['max_depth'])\n",
    "RF_fit = model2.fit(feature_train,label_train)\n",
    "RF_prediction = RF_fit.predict(feature_test)\n",
    "\n",
    "\n",
    "\n",
    "threshold = 0.7\n",
    "Label_test = (label_test > threshold).astype(int)\n",
    "rf_y, rf_x = calibration_curve(Label_test,RF_prediction, n_bins = 7 ) \n",
    "\n",
    "\n",
    "\n",
    "\n",
    "%matplotlib inline\n",
    "fig, ax = plt.subplots()\n",
    "# only these two lines are calibration curves\n",
    "plt.plot(rf_x, rf_y, marker='o', linewidth=1, label='rf')\n",
    "\n",
    "# reference line, legends, and axis labels\n",
    "line = mlines.Line2D([0, 1], [0, 1], color='black')\n",
    "transform = ax.transAxes\n",
    "line.set_transform(transform)\n",
    "ax.add_line(line)\n",
    "fig.suptitle('Calibration plot for the chemistry data')\n",
    "ax.set_xlabel('Predicted probability')\n",
    "ax.set_ylabel('True probability in each bin')\n",
    "plt.legend()\n",
    "plt.show()\n"
   ]
  },
  {
   "cell_type": "markdown",
   "metadata": {},
   "source": [
    "### Averging the calibration plot  \n"
   ]
  },
  {
   "cell_type": "code",
   "execution_count": 503,
   "metadata": {},
   "outputs": [
    {
     "name": "stderr",
     "output_type": "stream",
     "text": [
      "/Users/soufiane/anaconda3/lib/python3.7/site-packages/ipykernel_launcher.py:7: DeprecationWarning: time.clock has been deprecated in Python 3.3 and will be removed from Python 3.8: use time.perf_counter or time.process_time instead\n",
      "  import sys\n"
     ]
    },
    {
     "data": {
      "image/png": "[encoded data removed]",
      "text/plain": [
       "<Figure size 432x288 with 1 Axes>"
      ]
     },
     "metadata": {
      "needs_background": "light"
     },
     "output_type": "display_data"
    },
    {
     "name": "stdout",
     "output_type": "stream",
     "text": [
      "3.406541599999999 min\n"
     ]
    },
    {
     "name": "stderr",
     "output_type": "stream",
     "text": [
      "/Users/soufiane/anaconda3/lib/python3.7/site-packages/ipykernel_launcher.py:41: DeprecationWarning: time.clock has been deprecated in Python 3.3 and will be removed from Python 3.8: use time.perf_counter or time.process_time instead\n"
     ]
    }
   ],
   "source": [
    "n_simu = 300\n",
    "Av_RF_x = [] \n",
    "Av_RF_y = []\n",
    "threshold = 0.7\n",
    "n_bins = 7\n",
    "count = 0\n",
    "start_time = time.clock()\n",
    "\n",
    "\n",
    "for i in range(n_simu):\n",
    "    feature_train, feature_test, label_train, label_test = (model_selection.train_test_split(X,Y,test_size = 0.2))\n",
    "    model2 = RandomForestRegressor(n_estimators = grid.best_params_['n_estimators'], max_features = grid.best_params_['max_features'], max_depth = grid.best_params_['max_depth'])\n",
    "    RF_fit = model2.fit(feature_train,label_train)\n",
    "    RF_prediction = RF_fit.predict(feature_test)\n",
    "    Label_test = (label_test > threshold).astype(int)\n",
    "    rf_y, rf_x = calibration_curve(Label_test,RF_prediction, n_bins = n_bins ) \n",
    "    \n",
    "    if (len(rf_x) == n_bins):\n",
    "        Av_RF_x.append(rf_x)\n",
    "        Av_RF_y.append(rf_y)\n",
    "        count = count + 1 \n",
    "\n",
    "    \n",
    "av_RF_x = np.mean(np.array(Av_RF_x),axis =0)\n",
    "av_RF_y = np.mean(np.array(Av_RF_y),axis =0)\n",
    "\n",
    "\n",
    "    \n",
    "    \n",
    "fig, ax = plt.subplots()\n",
    "plt.plot(av_RF_x, av_RF_y, marker='o', linewidth=1, label='rf')\n",
    "line = mlines.Line2D([0, 1], [0, 1], color='black')\n",
    "transform = ax.transAxes\n",
    "line.set_transform(transform)\n",
    "ax.add_line(line)\n",
    "fig.suptitle('Calibration plot for the chemistry data')\n",
    "ax.set_xlabel('Predicted probability')\n",
    "ax.set_ylabel('True probability in each bin')\n",
    "plt.legend()\n",
    "plt.show()\n",
    "print((time.clock() - start_time)/60, \"min\")"
   ]
  },
  {
   "cell_type": "code",
   "execution_count": 505,
   "metadata": {},
   "outputs": [
    {
     "data": {
      "text/plain": [
       "11"
      ]
     },
     "execution_count": 505,
     "metadata": {},
     "output_type": "execute_result"
    }
   ],
   "source": [
    "count "
   ]
  },
  {
   "cell_type": "code",
   "execution_count": null,
   "metadata": {},
   "outputs": [],
   "source": []
  }
 ],
 "metadata": {
  "kernelspec": {
   "display_name": "Python 3",
   "language": "python",
   "name": "python3"
  },
  "language_info": {
   "codemirror_mode": {
    "name": "ipython",
    "version": 3
   },
   "file_extension": ".py",
   "mimetype": "text/x-python",
   "name": "python",
   "nbconvert_exporter": "python",
   "pygments_lexer": "ipython3",
   "version": "3.7.3"
  },
  "varInspector": {
   "cols": {
    "lenName": 16,
    "lenType": 16,
    "lenVar": 40
   },
   "kernels_config": {
    "python": {
     "delete_cmd_postfix": "",
     "delete_cmd_prefix": "del ",
     "library": "var_list.py",
     "varRefreshCmd": "print(var_dic_list())"
    },
    "r": {
     "delete_cmd_postfix": ") ",
     "delete_cmd_prefix": "rm(",
     "library": "var_list.r",
     "varRefreshCmd": "cat(var_dic_list()) "
    }
   },
   "types_to_exclude": [
    "module",
    "function",
    "builtin_function_or_method",
    "instance",
    "_Feature"
   ],
   "window_display": false
  }
 },
 "nbformat": 4,
 "nbformat_minor": 2
}
