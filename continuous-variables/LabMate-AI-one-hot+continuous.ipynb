{
 "cells": [
  {
   "cell_type": "markdown",
   "metadata": {},
   "source": [
    "# Please read me first\n",
    "- Make sure 'train_data.xlsx' and 'all_combos.xlsx' are in the folder 'LabMate-AI'"
   ]
  },
  {
   "cell_type": "code",
   "execution_count": 52,
   "metadata": {
    "scrolled": true
   },
   "outputs": [
    {
     "name": "stdout",
     "output_type": "stream",
     "text": [
      "Welcome! Let me work out what is the best experiment for you to run...\n",
      "\n",
      "Start: 2019/09/18  14:33:38\n",
      "\n",
      "Loading:  train_data.xlsx\n",
      "\n",
      "All good till now. I am figuring out the best method to analyze your data. Bear with me...\n",
      "\n",
      "... done! It is going to be lightspeed from here on out! :)\n",
      "Analysing feature importance for you...\n",
      "Index of OHE: [3, 6, 9]\n"
     ]
    },
    {
     "data": {
      "text/plain": [
       "<Figure size 864x1440 with 0 Axes>"
      ]
     },
     "metadata": {},
     "output_type": "display_data"
    },
    {
     "data": {
      "image/png": "[encoded data removed]",
      "text/plain": [
       "<Figure size 432x288 with 1 Axes>"
      ]
     },
     "metadata": {
      "needs_background": "light"
     },
     "output_type": "display_data"
    },
    {
     "name": "stdout",
     "output_type": "stream",
     "text": [
      "\n",
      "You are all set! Have a good one, mate!\n",
      "\n",
      "End: 2019/09/18  14:42:23\n"
     ]
    }
   ],
   "source": [
    "# ALL CODE:\n",
    "import numpy as np \n",
    "import pandas as pd \n",
    "from sklearn.model_selection import KFold\n",
    "from sklearn.ensemble import RandomForestRegressor\n",
    "from sklearn.model_selection import GridSearchCV\n",
    "# from sklearn.externals.joblib import dump\n",
    "import seaborn as sns\n",
    "import time\n",
    "from treeinterpreter import treeinterpreter as ti\n",
    "import matplotlib.pyplot as plt\n",
    "\n",
    "def get_colu_num_numerical(filename1_df):#X with no label\n",
    "    colu = filename1_df.iloc[:,:-1].select_dtypes(exclude=['object']) #extract  columns\n",
    "    num = len(colu.columns) #get the number of  columns\n",
    "    return colu, num\n",
    "\n",
    "def get_colu_num_catagorical(filename1_df):#X with no label\n",
    "    colu = filename1_df.iloc[:,:-1].select_dtypes(include=['object']) #extract  columns\n",
    "    num = len(colu.columns) #get the number of  columns\n",
    "    return colu, num\n",
    "\n",
    "# find index in all_combos of train_data  \n",
    "#先在all里面加入索引，然后merge 去交际，留下交际，得到index\n",
    "def get_train_OHE(filename1_df, all_combos_df):\n",
    "    All_OHE_df = pd.get_dummies(all_combos_df) # OHE for all data\n",
    "    copy_df = all_combos_df.copy()\n",
    "    copy_df['index'] = np.arange(len(all_combos_df.iloc[:,1]))# Creat a new colum for index in all\n",
    "    X = filename1_df.iloc[:,:-1] #X\n",
    "    merge_df = pd.merge(copy_df, X, how='inner') #Merge data from unconverted formation\n",
    "    index_lst = merge_df['index'].tolist()\n",
    "    X_OHE_df = All_OHE_df.iloc[index_lst,:]\n",
    "    return X_OHE_df\n",
    "\n",
    "# Get the index of each catagorical data\n",
    "def get_OHE_index(filename1_df): #from your X\n",
    "    #get unique num:\n",
    "    Numerical_colu, Numerical_num = get_colu_num_numerical(filename1_df)#get the number of numerical columns, one-hot-encoded columns should appear behind them.\n",
    "    Discrete_colu, Discrete_num = get_colu_num_catagorical(filename1_df)\n",
    "    unique_num = []\n",
    "    for i in Discrete_colu.columns:\n",
    "        unique_num.append(len(Discrete_colu[i].unique()))\n",
    "    index = [Numerical_num]\n",
    "    count = Numerical_num\n",
    "    for i in unique_num[:-1]:\n",
    "        count = count + int(i)\n",
    "        index.append(count)\n",
    "    print('Index of OHE:',index)\n",
    "    return index\n",
    "\n",
    "#tree interpreter for feature importance\n",
    "#以下是tree interpreter的集成代码\n",
    "def plot_tree(model,filename1_df, all_combos_df): #model, filename1_df is dataframe of train data. All is dataframe of allcombos.\n",
    "    All_OHE_df = pd.get_dummies(all_combos_df)\n",
    "    prediction, bias, contributions = ti.predict(model, All_OHE_df)\n",
    "    contributions = pd.DataFrame(contributions, columns=All_OHE_df.columns) #get all the contributions\n",
    "    X = filename1_df.iloc[:,:-1]\n",
    "    index = get_OHE_index(X)\n",
    "    Numerical_colu, Numerical_num = get_colu_num_numerical(filename1_df)\n",
    "    Discrete_colu, Discrete_num = get_colu_num_catagorical(filename1_df)\n",
    "    Discrete_colu_name = Discrete_colu.columns\n",
    "    unique_num = []\n",
    "    for i in Discrete_colu.columns:\n",
    "        unique_num.append(len(Discrete_colu[i].unique()))\n",
    "    numerical_contri_df = contributions.iloc[:,:Numerical_num]\n",
    "    discrete_contri_df = pd.DataFrame()\n",
    "    for i in range(Discrete_num):\n",
    "        posi = index[i]\n",
    "        increment = unique_num[i]\n",
    "        discrete_contri_df[Discrete_colu_name[i]] = contributions.iloc[:,posi:posi+increment].sum(1)\n",
    "    contri_all_df = pd.concat([numerical_contri_df, discrete_contri_df], axis=1)\n",
    "    plt.figure(figsize=(12, 20))\n",
    "    contri_all_df.plot.box()\n",
    "    plt.title('Feature importance')\n",
    "    plt.savefig('Feature importance.png')\n",
    "    plt.show()\n",
    "\n",
    "#load data\n",
    "print('Welcome! Let me work out what is the best experiment for you to run...')\n",
    "#filename1 = input(\"Please type in your train data file name: \")\n",
    "#filename2 = input('Please type in your chemical space file name: ')\n",
    "print('\\nStart:', time.strftime(\"%Y/%m/%d  %H:%M:%S\"))\n",
    "filename1 = 'train_data.xlsx'\n",
    "filename2 = 'all_combos.xlsx'\n",
    "print('\\nLoading: ', filename1)\n",
    "\n",
    "filename1_df = pd.read_excel(filename1)\n",
    "all_combos_df = pd.read_excel(filename2)\n",
    "y = filename1_df.iloc[:,-1]\n",
    "X = filename1_df.iloc[:,:-1]\n",
    "All_OHE_df = pd.get_dummies(all_combos_df)\n",
    "# df_train_corrected = train.iloc[:,:-1]\n",
    "X_OHE_df = get_train_OHE(filename1_df, all_combos_df)\n",
    "unseen = pd.concat([All_OHE_df, X_OHE_df]).drop_duplicates(keep=False) # drop when you get index\n",
    "#process\n",
    "#process\n",
    "\n",
    "print('\\nAll good till now. I am figuring out the best method to analyze your data. Bear with me...')\n",
    "#General stuff\n",
    "seed = 1234\n",
    "kfold = KFold(n_splits = 2, random_state = seed)#\n",
    "scoring = 'neg_mean_absolute_error'\n",
    "model = RandomForestRegressor(random_state=seed)\n",
    "\n",
    "#Parameters to tune\n",
    "# estimators = np.arange(100, 1050, 50) \n",
    "# estimators_int = np.ndarray.tolist(estimators)\n",
    "estimators_int = [200, 500]\n",
    "param_grid = {'n_estimators':estimators_int, 'max_features':['auto', 'sqrt'],\n",
    "              'max_depth':[None ]}#\n",
    "#search best parameters and train\n",
    "grid = GridSearchCV(estimator=model, param_grid=param_grid, scoring=scoring, cv=kfold, n_jobs=-1)\n",
    "grid_result = grid.fit(X_OHE_df, y)\n",
    "\n",
    "#print the best data cranked out from the grid search\n",
    "np.savetxt('Model_best_score_MAE.txt', [\"best_score: %s\" % grid.best_score_], fmt ='%s')\n",
    "best_params = pd.DataFrame([grid.best_params_], columns=grid.best_params_.keys())\n",
    "best_params.to_csv('best_parameters.txt', sep= '\\t')\n",
    "\n",
    "print('\\n... done! It is going to be lightspeed from here on out! :)')\n",
    "#predict future data\n",
    "\n",
    "model2 = grid.best_estimator_\n",
    "# model2 = RandomForestRegressor(n_estimators = grid.best_params_['n_estimators'], max_features = grid.best_params_['max_features'], max_depth = grid.best_params_['max_depth'], random_state = seed)\n",
    "RF_fit = model2.fit(X_OHE_df, y)\n",
    "predictions = model2.predict(unseen)\n",
    "predictions_df = pd.DataFrame(data=predictions, columns=['Prediction'])\n",
    "\n",
    "# #feature importance\n",
    "# feat_imp = pd.DataFrame(model2.feature_importances_,\n",
    "#                         index=train.iloc[:,1:-1].columns,\n",
    "#                         columns=['Feature_importances'])\n",
    "# feat_imp = feat_imp.sort_values(by=['Feature_importances'], ascending = False)\n",
    "\n",
    "all_predictions = []\n",
    "for e in model2.estimators_:\n",
    "    all_predictions += [e.predict(unseen)]\n",
    "\n",
    "variance = np.var(all_predictions, axis=0)\n",
    "variance_df = pd.DataFrame(data=variance, columns=['Variance'])\n",
    "\n",
    "assert len(variance) == len(predictions)\n",
    "unseen_combos_df = pd.concat([all_combos_df, X]).drop_duplicates(keep=False)\n",
    "df = pd.concat([unseen_combos_df, predictions_df, variance_df], axis=1)\n",
    "\n",
    "print('Analysing feature importance for you...')\n",
    "plot_tree(model2, filename1_df, all_combos_df)\n",
    "#save data\n",
    "df.to_csv('predictions.csv',index=False)\n",
    "print('\\nYou are all set! Have a good one, mate!')#all_comboss.csv\n",
    "print('\\nEnd:', time.strftime(\"%Y/%m/%d  %H:%M:%S\"))#train_data.csv"
   ]
  },
  {
   "cell_type": "code",
   "execution_count": 45,
   "metadata": {
    "scrolled": false
   },
   "outputs": [
    {
     "name": "stdout",
     "output_type": "stream",
     "text": [
      "Welcome! Let me work out what is the best experiment for you to run...\n",
      "\n",
      "Start: 2019/09/18  14:24:56\n",
      "\n",
      "Loading:  train_data.xlsx\n"
     ]
    }
   ],
   "source": [
    "import numpy as np\n",
    "import pandas as pd\n",
    "from sklearn.model_selection import KFold\n",
    "from sklearn.ensemble import RandomForestRegressor\n",
    "from sklearn.model_selection import GridSearchCV\n",
    "# from sklearn.externals.joblib import dump\n",
    "import seaborn as sns\n",
    "import time\n",
    "from treeinterpreter import treeinterpreter as ti\n",
    "import matplotlib.pyplot as plt\n",
    "\n",
    "#load data\n",
    "print('Welcome! Let me work out what is the best experiment for you to run...')\n",
    "#filename1 = input(\"Please type in your train data file name: \")\n",
    "#filename2 = input('Please type in your chemical space file name: ')\n",
    "print('\\nStart:', time.strftime(\"%Y/%m/%d  %H:%M:%S\"))\n",
    "filename1 = 'train_data.xlsx'\n",
    "filename2 = 'all_combos.xlsx'\n",
    "print('\\nLoading: ', filename1)\n",
    "\n",
    "filename1_df = pd.read_excel(filename1)\n",
    "all_combos_df = pd.read_excel(filename2)\n",
    "y = filename1_df.iloc[:,-1]\n",
    "X = filename1_df.iloc[:,:-1]\n",
    "# all_combos_df['index'] = np.arange(len(all_combos_df.iloc[:,1]))\n",
    "All_OHE_df = pd.get_dummies(all_combos_df)\n",
    "# df_train_corrected = train.iloc[:,:-1]\n",
    "X_OHE_df = get_train_OHE(filename1_df, all_combos_df)\n",
    "unseen = pd.concat([All_OHE_df, X_OHE_df]).drop_duplicates(keep=False) # drop when you get index\n",
    "#process\n",
    "\n",
    "Numerical_colu, Numerical_num = get_colu_num_numerical(filename1_df)#get the number of numerical columns, one-hot-encoded columns should appear behind them.\n",
    "Discrete_colu, Discrete_num = get_colu_num_catagorical(filename1_df)"
   ]
  },
  {
   "cell_type": "code",
   "execution_count": 44,
   "metadata": {},
   "outputs": [],
   "source": [
    "# find index in all_combos of train_data  \n",
    "#先在all里面加入索引，然后merge 去交际，留下交际，得到index\n",
    "def get_train_OHE(filename1_df, all_combos_df):\n",
    "    All_OHE_df = pd.get_dummies(all_combos_df) # OHE for all data\n",
    "    all_combos_df['index'] = np.arange(len(all_combos_df.iloc[:,1]))# Creat a new colum for index in all\n",
    "    X = filename1_df.iloc[:,:-1] #X\n",
    "    merge_df = pd.merge(all_combos_df, X, how='inner') #Merge data from unconverted formation\n",
    "    index_lst = merge_df['index'].tolist()\n",
    "    X_OHE_df = All_OHE_df.iloc[index_lst,:]\n",
    "    return X_OHE_df\n",
    "\n",
    "X_OHE_df = get_train_OHE(filename1_df, all_combos_df)"
   ]
  },
  {
   "cell_type": "code",
   "execution_count": 2,
   "metadata": {},
   "outputs": [],
   "source": [
    "def get_colu_num_numerical(filename1_df):#X with no label\n",
    "    colu = filename1_df.iloc[:,:-1].select_dtypes(exclude=['object']) #extract  columns\n",
    "    num = len(colu.columns) #get the number of  columns\n",
    "    return colu, num\n",
    "\n",
    "def get_colu_num_catagorical(filename1_df):#X with no label\n",
    "    colu = filename1_df.iloc[:,:-1].select_dtypes(include=['object']) #extract  columns\n",
    "    num = len(colu.columns) #get the number of  columns\n",
    "    return colu, num\n",
    "\n",
    "Numerical_colu, Numerical_num = get_colu_num_numerical(filename1_df)#get the number of numerical columns, one-hot-encoded columns should appear behind them.\n",
    "Discrete_colu, Discrete_num = get_colu_num_catagorical(filename1_df)"
   ]
  },
  {
   "cell_type": "code",
   "execution_count": 3,
   "metadata": {},
   "outputs": [],
   "source": [
    "# Get the index of each catagorical data\n",
    "def get_OHE_index(filename1_df): #from your X\n",
    "    #get unique num:\n",
    "    Numerical_colu, Numerical_num = get_colu_num_numerical(filename1_df)#get the number of numerical columns, one-hot-encoded columns should appear behind them.\n",
    "    Discrete_colu, Discrete_num = get_colu_num_catagorical(filename1_df)\n",
    "    unique_num = []\n",
    "    for i in Discrete_colu.columns:\n",
    "        unique_num.append(len(Discrete_colu[i].unique()))\n",
    "    index = [Numerical_num]\n",
    "    count = Numerical_num\n",
    "    for i in unique_num[:-1]:\n",
    "        count = count + int(i)\n",
    "        index.append(count)\n",
    "    print('Index of OHE:',index)\n",
    "    return index"
   ]
  },
  {
   "cell_type": "code",
   "execution_count": 93,
   "metadata": {},
   "outputs": [
    {
     "name": "stdout",
     "output_type": "stream",
     "text": [
      "\n",
      "All good till now. I am figuring out the best method to analyze your data. Bear with me...\n"
     ]
    }
   ],
   "source": [
    "print('\\nAll good till now. I am figuring out the best method to analyze your data. Bear with me...')\n",
    "#General stuff\n",
    "seed = 1234\n",
    "kfold = KFold(n_splits = 2, random_state = seed)#\n",
    "scoring = 'neg_mean_absolute_error'\n",
    "model = RandomForestRegressor(random_state=seed)\n",
    "\n",
    "#Parameters to tune\n",
    "# estimators = np.arange(100, 1050, 50) \n",
    "# estimators_int = np.ndarray.tolist(estimators)\n",
    "estimators_int = [200, 500]\n",
    "param_grid = {'n_estimators':estimators_int, 'max_features':['auto', 'sqrt'],\n",
    "              'max_depth':[None ]}#\n",
    "#search best parameters and train\n",
    "grid = GridSearchCV(estimator=model, param_grid=param_grid, scoring=scoring, cv=kfold, n_jobs=-1)\n",
    "grid_result = grid.fit(X_OHE_df, y)\n",
    "\n",
    "#print the best data cranked out from the grid search\n",
    "np.savetxt('Model_best_score_MAE.txt', [\"best_score: %s\" % grid.best_score_], fmt ='%s')\n",
    "best_params = pd.DataFrame([grid.best_params_], columns=grid.best_params_.keys())\n",
    "best_params.to_csv('best_parameters.txt', sep= '\\t')\n"
   ]
  },
  {
   "cell_type": "code",
   "execution_count": 95,
   "metadata": {},
   "outputs": [
    {
     "data": {
      "text/html": [
       "<div>\n",
       "<style scoped>\n",
       "    .dataframe tbody tr th:only-of-type {\n",
       "        vertical-align: middle;\n",
       "    }\n",
       "\n",
       "    .dataframe tbody tr th {\n",
       "        vertical-align: top;\n",
       "    }\n",
       "\n",
       "    .dataframe thead th {\n",
       "        text-align: right;\n",
       "    }\n",
       "</style>\n",
       "<table border=\"1\" class=\"dataframe\">\n",
       "  <thead>\n",
       "    <tr style=\"text-align: right;\">\n",
       "      <th></th>\n",
       "      <th>ligand</th>\n",
       "      <th>cat</th>\n",
       "      <th>reactant1</th>\n",
       "      <th>conc.</th>\n",
       "      <th>tem</th>\n",
       "      <th>time</th>\n",
       "      <th>Prediction</th>\n",
       "      <th>Variance</th>\n",
       "    </tr>\n",
       "  </thead>\n",
       "  <tbody>\n",
       "    <tr>\n",
       "      <th>0</th>\n",
       "      <td>ph2</td>\n",
       "      <td>ca</td>\n",
       "      <td>0.1</td>\n",
       "      <td>0.05</td>\n",
       "      <td>110.0</td>\n",
       "      <td>10.0</td>\n",
       "      <td>20.590</td>\n",
       "      <td>5.641900</td>\n",
       "    </tr>\n",
       "    <tr>\n",
       "      <th>1</th>\n",
       "      <td>ph2</td>\n",
       "      <td>ca</td>\n",
       "      <td>0.1</td>\n",
       "      <td>0.05</td>\n",
       "      <td>110.0</td>\n",
       "      <td>11.0</td>\n",
       "      <td>20.725</td>\n",
       "      <td>5.769375</td>\n",
       "    </tr>\n",
       "    <tr>\n",
       "      <th>2</th>\n",
       "      <td>ph2</td>\n",
       "      <td>ca</td>\n",
       "      <td>0.1</td>\n",
       "      <td>0.05</td>\n",
       "      <td>110.0</td>\n",
       "      <td>14.0</td>\n",
       "      <td>20.430</td>\n",
       "      <td>6.325100</td>\n",
       "    </tr>\n",
       "    <tr>\n",
       "      <th>3</th>\n",
       "      <td>ph2</td>\n",
       "      <td>ca</td>\n",
       "      <td>0.1</td>\n",
       "      <td>0.05</td>\n",
       "      <td>110.0</td>\n",
       "      <td>15.0</td>\n",
       "      <td>20.420</td>\n",
       "      <td>6.343600</td>\n",
       "    </tr>\n",
       "    <tr>\n",
       "      <th>4</th>\n",
       "      <td>ph2</td>\n",
       "      <td>ca</td>\n",
       "      <td>0.1</td>\n",
       "      <td>0.05</td>\n",
       "      <td>110.0</td>\n",
       "      <td>16.0</td>\n",
       "      <td>20.710</td>\n",
       "      <td>6.275900</td>\n",
       "    </tr>\n",
       "  </tbody>\n",
       "</table>\n",
       "</div>"
      ],
      "text/plain": [
       "  ligand cat  reactant1  conc.    tem  time  Prediction  Variance\n",
       "0    ph2  ca        0.1   0.05  110.0  10.0      20.590  5.641900\n",
       "1    ph2  ca        0.1   0.05  110.0  11.0      20.725  5.769375\n",
       "2    ph2  ca        0.1   0.05  110.0  14.0      20.430  6.325100\n",
       "3    ph2  ca        0.1   0.05  110.0  15.0      20.420  6.343600\n",
       "4    ph2  ca        0.1   0.05  110.0  16.0      20.710  6.275900"
      ]
     },
     "execution_count": 95,
     "metadata": {},
     "output_type": "execute_result"
    }
   ],
   "source": [
    "print('\\n... done! It is going to be lightspeed from here on out! :)')\n",
    "#predict future data\n",
    "\n",
    "model2 = grid.best_estimator_\n",
    "# model2 = RandomForestRegressor(n_estimators = grid.best_params_['n_estimators'], max_features = grid.best_params_['max_features'], max_depth = grid.best_params_['max_depth'], random_state = seed)\n",
    "RF_fit = model2.fit(X_OHE_df, y)\n",
    "predictions = model2.predict(unseen)\n",
    "predictions_df = pd.DataFrame(data=predictions, columns=['Prediction'])\n",
    "\n",
    "# #feature importance\n",
    "# feat_imp = pd.DataFrame(model2.feature_importances_,\n",
    "#                         index=train.iloc[:,1:-1].columns,\n",
    "#                         columns=['Feature_importances'])\n",
    "# feat_imp = feat_imp.sort_values(by=['Feature_importances'], ascending = False)\n",
    "\n",
    "all_predictions = []\n",
    "for e in model2.estimators_:\n",
    "    all_predictions += [e.predict(X2)]\n",
    "\n",
    "variance = np.var(all_predictions, axis=0)\n",
    "variance_df = pd.DataFrame(data=variance, columns=['Variance'])\n",
    "\n",
    "assert len(variance) == len(predictions)\n",
    "unseen_combos_df = pd.concat([all_combos_df, X]).drop_duplicates(keep=False)\n",
    "df = pd.concat([unseen_combos_df, predictions_df, variance_df], axis=1)"
   ]
  },
  {
   "cell_type": "code",
   "execution_count": 96,
   "metadata": {},
   "outputs": [],
   "source": [
    "#tree interpreter for feature importance\n",
    "#以下是tree interpreter的集成代码\n",
    "def plot_tree(model,filename1_df, all_combos_df): #model, filename1_df is dataframe of train data. All is dataframe of allcombos.\n",
    "    All_OHE_df = pd.get_dummies(all_combos_df)\n",
    "    prediction, bias, contributions = ti.predict(model, All_OHE_df)\n",
    "    contributions = pd.DataFrame(contributions, columns=All_OHE_df.columns) #get all the contributions\n",
    "    X = filename1_df.iloc[:,:-1]\n",
    "    index = get_OHE_index(X)\n",
    "    Numerical_colu, Numerical_num = get_colu_num_numerical(filename1_df)\n",
    "    Discrete_colu, Discrete_num = get_colu_num_catagorical(filename1_df)\n",
    "    Discrete_colu_name = Discrete_colu.columns\n",
    "    unique_num = []\n",
    "    \n",
    "    for i in Discrete_colu.columns:\n",
    "        unique_num.append(len(Discrete_colu[i].unique()))\n",
    "    numerical_contri_df = contributions.iloc[:,:Numerical_num]\n",
    "    discrete_contri_df = pd.DataFrame()\n",
    "    for i in range(Discrete_num):\n",
    "        posi = index[i]\n",
    "        increment = unique_num[i]\n",
    "        discrete_contri_df[Discrete_colu_name[i]] = contributions.iloc[:,posi:posi+increment].sum(1)\n",
    "    contri_all_df = pd.concat([numerical_contri_df, discrete_contri_df], axis=1)\n",
    "    plt.figure(figsize=(12, 20))\n",
    "    contri_all_df.plot.box()\n",
    "    plt.title('Feature importance')\n",
    "    plt.savefig('Feature importance.png')\n",
    "    plt.show()"
   ]
  },
  {
   "cell_type": "code",
   "execution_count": 97,
   "metadata": {},
   "outputs": [
    {
     "name": "stdout",
     "output_type": "stream",
     "text": [
      "Analysing feature importance for you...\n",
      "Index of OHE: [3, 7]\n"
     ]
    },
    {
     "data": {
      "text/plain": [
       "<Figure size 864x1440 with 0 Axes>"
      ]
     },
     "metadata": {},
     "output_type": "display_data"
    },
    {
     "data": {
      "image/png": "[encoded data removed]",
      "text/plain": [
       "<Figure size 432x288 with 1 Axes>"
      ]
     },
     "metadata": {
      "needs_background": "light"
     },
     "output_type": "display_data"
    }
   ],
   "source": [
    "print('Analysing feature importance for you...')\n",
    "plot_tree(model2, filename1_df, all_combos_df)\n",
    "#save data\n",
    "df.to_csv('predictions.csv',index=False)\n",
    "print('\\nYou are all set! Have a good one, mate!')#all_comboss.csv\n",
    "print('\\nEnd:', time.strftime(\"%Y/%m/%d  %H:%M:%S\"))#train_data.csv"
   ]
  }
 ],
 "metadata": {
  "kernelspec": {
   "display_name": "Python 3",
   "language": "python",
   "name": "python3"
  },
  "language_info": {
   "codemirror_mode": {
    "name": "ipython",
    "version": 3
   },
   "file_extension": ".py",
   "mimetype": "text/x-python",
   "name": "python",
   "nbconvert_exporter": "python",
   "pygments_lexer": "ipython3",
   "version": "3.7.3"
  },
  "varInspector": {
   "cols": {
    "lenName": 16,
    "lenType": 16,
    "lenVar": 40
   },
   "kernels_config": {
    "python": {
     "delete_cmd_postfix": "",
     "delete_cmd_prefix": "del ",
     "library": "var_list.py",
     "varRefreshCmd": "print(var_dic_list())"
    },
    "r": {
     "delete_cmd_postfix": ") ",
     "delete_cmd_prefix": "rm(",
     "library": "var_list.r",
     "varRefreshCmd": "cat(var_dic_list()) "
    }
   },
   "types_to_exclude": [
    "module",
    "function",
    "builtin_function_or_method",
    "instance",
    "_Feature"
   ],
   "window_display": false
  }
 },
 "nbformat": 4,
 "nbformat_minor": 2
}
