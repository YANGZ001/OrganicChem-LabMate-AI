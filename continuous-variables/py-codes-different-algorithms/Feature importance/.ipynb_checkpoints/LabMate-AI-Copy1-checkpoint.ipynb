{
 "cells": [
  {
   "cell_type": "code",
   "execution_count": 2,
   "metadata": {},
   "outputs": [
    {
     "name": "stdout",
     "output_type": "stream",
     "text": [
      "Welcome! Let me work out what is the best experiment for you to run...\n",
      "\n",
      "Start: 2019/09/11  15:12:13\n",
      "\n",
      "Loading:  train_data.csv\n",
      "\n",
      "All good till now. I am figuring out the best method to analyze your data. Bear with me...\n",
      "\n",
      "... done! It is going to be lightspeed from here on out! :)\n"
     ]
    },
    {
     "ename": "MemoryError",
     "evalue": "Unable to allocate array with shape (300, 1575014) and data type float64",
     "output_type": "error",
     "traceback": [
      "\u001b[1;31m---------------------------------------------------------------------------\u001b[0m",
      "\u001b[1;31mMemoryError\u001b[0m                               Traceback (most recent call last)",
      "\u001b[1;32m<ipython-input-2-377fc5612669>\u001b[0m in \u001b[0;36m<module>\u001b[1;34m\u001b[0m\n\u001b[0;32m     69\u001b[0m     \u001b[0mall_predictions\u001b[0m \u001b[1;33m+=\u001b[0m \u001b[1;33m[\u001b[0m\u001b[0me\u001b[0m\u001b[1;33m.\u001b[0m\u001b[0mpredict\u001b[0m\u001b[1;33m(\u001b[0m\u001b[0mX2\u001b[0m\u001b[1;33m)\u001b[0m\u001b[1;33m]\u001b[0m\u001b[1;33m\u001b[0m\u001b[1;33m\u001b[0m\u001b[0m\n\u001b[0;32m     70\u001b[0m \u001b[1;33m\u001b[0m\u001b[0m\n\u001b[1;32m---> 71\u001b[1;33m \u001b[0mvariance\u001b[0m \u001b[1;33m=\u001b[0m \u001b[0mnp\u001b[0m\u001b[1;33m.\u001b[0m\u001b[0mvar\u001b[0m\u001b[1;33m(\u001b[0m\u001b[0mall_predictions\u001b[0m\u001b[1;33m,\u001b[0m \u001b[0maxis\u001b[0m\u001b[1;33m=\u001b[0m\u001b[1;36m0\u001b[0m\u001b[1;33m)\u001b[0m\u001b[1;33m\u001b[0m\u001b[1;33m\u001b[0m\u001b[0m\n\u001b[0m\u001b[0;32m     72\u001b[0m \u001b[0mvariance_df\u001b[0m \u001b[1;33m=\u001b[0m \u001b[0mpd\u001b[0m\u001b[1;33m.\u001b[0m\u001b[0mDataFrame\u001b[0m\u001b[1;33m(\u001b[0m\u001b[0mdata\u001b[0m\u001b[1;33m=\u001b[0m\u001b[0mvariance\u001b[0m\u001b[1;33m,\u001b[0m \u001b[0mcolumns\u001b[0m\u001b[1;33m=\u001b[0m\u001b[1;33m[\u001b[0m\u001b[1;34m'Variance'\u001b[0m\u001b[1;33m]\u001b[0m\u001b[1;33m)\u001b[0m\u001b[1;33m\u001b[0m\u001b[1;33m\u001b[0m\u001b[0m\n\u001b[0;32m     73\u001b[0m \u001b[1;33m\u001b[0m\u001b[0m\n",
      "\u001b[1;32m<__array_function__ internals>\u001b[0m in \u001b[0;36mvar\u001b[1;34m(*args, **kwargs)\u001b[0m\n",
      "\u001b[1;32m~\\Anaconda3\\lib\\site-packages\\numpy\\core\\fromnumeric.py\u001b[0m in \u001b[0;36mvar\u001b[1;34m(a, axis, dtype, out, ddof, keepdims)\u001b[0m\n\u001b[0;32m   3504\u001b[0m \u001b[1;33m\u001b[0m\u001b[0m\n\u001b[0;32m   3505\u001b[0m     return _methods._var(a, axis=axis, dtype=dtype, out=out, ddof=ddof,\n\u001b[1;32m-> 3506\u001b[1;33m                          **kwargs)\n\u001b[0m\u001b[0;32m   3507\u001b[0m \u001b[1;33m\u001b[0m\u001b[0m\n\u001b[0;32m   3508\u001b[0m \u001b[1;33m\u001b[0m\u001b[0m\n",
      "\u001b[1;32m~\\Anaconda3\\lib\\site-packages\\numpy\\core\\_methods.py\u001b[0m in \u001b[0;36m_var\u001b[1;34m(a, axis, dtype, out, ddof, keepdims)\u001b[0m\n\u001b[0;32m    166\u001b[0m \u001b[1;33m\u001b[0m\u001b[0m\n\u001b[0;32m    167\u001b[0m \u001b[1;32mdef\u001b[0m \u001b[0m_var\u001b[0m\u001b[1;33m(\u001b[0m\u001b[0ma\u001b[0m\u001b[1;33m,\u001b[0m \u001b[0maxis\u001b[0m\u001b[1;33m=\u001b[0m\u001b[1;32mNone\u001b[0m\u001b[1;33m,\u001b[0m \u001b[0mdtype\u001b[0m\u001b[1;33m=\u001b[0m\u001b[1;32mNone\u001b[0m\u001b[1;33m,\u001b[0m \u001b[0mout\u001b[0m\u001b[1;33m=\u001b[0m\u001b[1;32mNone\u001b[0m\u001b[1;33m,\u001b[0m \u001b[0mddof\u001b[0m\u001b[1;33m=\u001b[0m\u001b[1;36m0\u001b[0m\u001b[1;33m,\u001b[0m \u001b[0mkeepdims\u001b[0m\u001b[1;33m=\u001b[0m\u001b[1;32mFalse\u001b[0m\u001b[1;33m)\u001b[0m\u001b[1;33m:\u001b[0m\u001b[1;33m\u001b[0m\u001b[1;33m\u001b[0m\u001b[0m\n\u001b[1;32m--> 168\u001b[1;33m     \u001b[0marr\u001b[0m \u001b[1;33m=\u001b[0m \u001b[0masanyarray\u001b[0m\u001b[1;33m(\u001b[0m\u001b[0ma\u001b[0m\u001b[1;33m)\u001b[0m\u001b[1;33m\u001b[0m\u001b[1;33m\u001b[0m\u001b[0m\n\u001b[0m\u001b[0;32m    169\u001b[0m \u001b[1;33m\u001b[0m\u001b[0m\n\u001b[0;32m    170\u001b[0m     \u001b[0mrcount\u001b[0m \u001b[1;33m=\u001b[0m \u001b[0m_count_reduce_items\u001b[0m\u001b[1;33m(\u001b[0m\u001b[0marr\u001b[0m\u001b[1;33m,\u001b[0m \u001b[0maxis\u001b[0m\u001b[1;33m)\u001b[0m\u001b[1;33m\u001b[0m\u001b[1;33m\u001b[0m\u001b[0m\n",
      "\u001b[1;32m~\\Anaconda3\\lib\\site-packages\\numpy\\core\\_asarray.py\u001b[0m in \u001b[0;36masanyarray\u001b[1;34m(a, dtype, order)\u001b[0m\n\u001b[0;32m    136\u001b[0m \u001b[1;33m\u001b[0m\u001b[0m\n\u001b[0;32m    137\u001b[0m     \"\"\"\n\u001b[1;32m--> 138\u001b[1;33m     \u001b[1;32mreturn\u001b[0m \u001b[0marray\u001b[0m\u001b[1;33m(\u001b[0m\u001b[0ma\u001b[0m\u001b[1;33m,\u001b[0m \u001b[0mdtype\u001b[0m\u001b[1;33m,\u001b[0m \u001b[0mcopy\u001b[0m\u001b[1;33m=\u001b[0m\u001b[1;32mFalse\u001b[0m\u001b[1;33m,\u001b[0m \u001b[0morder\u001b[0m\u001b[1;33m=\u001b[0m\u001b[0morder\u001b[0m\u001b[1;33m,\u001b[0m \u001b[0msubok\u001b[0m\u001b[1;33m=\u001b[0m\u001b[1;32mTrue\u001b[0m\u001b[1;33m)\u001b[0m\u001b[1;33m\u001b[0m\u001b[1;33m\u001b[0m\u001b[0m\n\u001b[0m\u001b[0;32m    139\u001b[0m \u001b[1;33m\u001b[0m\u001b[0m\n\u001b[0;32m    140\u001b[0m \u001b[1;33m\u001b[0m\u001b[0m\n",
      "\u001b[1;31mMemoryError\u001b[0m: Unable to allocate array with shape (300, 1575014) and data type float64"
     ]
    }
   ],
   "source": [
    "import numpy as np\n",
    "import pandas as pd\n",
    "from sklearn.model_selection import KFold\n",
    "from sklearn.ensemble import RandomForestRegressor\n",
    "from sklearn.model_selection import GridSearchCV\n",
    "from sklearn.externals.joblib import dump\n",
    "import time\n",
    "\n",
    "#load data\n",
    "print('Welcome! Let me work out what is the best experiment for you to run...')\n",
    "#filename1 = input(\"Please type in your train data file name: \")\n",
    "#filename2 = input('Please type in your chemical space file name: ')\n",
    "print('\\nStart:', time.strftime(\"%Y/%m/%d  %H:%M:%S\"))\n",
    "print('\\nLoading: ', filename1)\n",
    "filename1 = 'train_data.csv'\n",
    "filename2 = 'all_combos.csv'\n",
    "train = pd.read_csv(filename1)\n",
    "array = train.values\n",
    "X = array[:,1:-1]    \n",
    "y = array[:,-1]\n",
    "\n",
    "\n",
    "print('\\nAll good till now. I am figuring out the best method to analyze your data. Bear with me...')\n",
    "#General stuff\n",
    "seed = 1234\n",
    "kfold = KFold(n_splits = 10, random_state = seed) \n",
    "scoring = 'neg_mean_absolute_error'\n",
    "model = RandomForestRegressor(random_state=seed)\n",
    "\n",
    "#Parameters to tune\n",
    "estimators = np.arange(100, 1050, 100) \n",
    "estimators_int = np.ndarray.tolist(estimators)\n",
    "param_grid = {'n_estimators':estimators_int, 'max_features':['auto', 'sqrt'],\n",
    "              'max_depth':[None,2]}\n",
    "\n",
    "#search best parameters and train\n",
    "grid = GridSearchCV(estimator=model, param_grid=param_grid, scoring=scoring, cv=kfold, n_jobs=-1)\n",
    "grid_result = grid.fit(X, y)\n",
    "\n",
    "#print the best data cranked out from the grid search\n",
    "np.savetxt('Model_best_score.txt', [\"best_score: %s\" % grid.best_score_], fmt ='%s')\n",
    "best_params = pd.DataFrame([grid.best_params_], columns=grid.best_params_.keys())\n",
    "best_params.to_csv('best_parameters.txt', sep= '\\t')\n",
    "\n",
    "print('\\n... done! It is going to be lightspeed from here on out! :)')\n",
    "#predict future data\n",
    "# filename2 = 'all_comboss.csv'\n",
    "df_all_combos = pd.read_csv(filename2, engine='python')\n",
    "df_train_corrected = train.iloc[:,:-1]\n",
    "unseen = pd.concat([df_all_combos, df_train_corrected]).drop_duplicates(keep=False)\n",
    "array2 = unseen.values\n",
    "X2 = array2[:,1:]\n",
    "df_all_combos2 = df_all_combos.iloc[:,1:]\n",
    "\n",
    "model2 = grid.best_estimator_\n",
    "# model2 = RandomForestRegressor(n_estimators = grid.best_params_['n_estimators'], max_features = grid.best_params_['max_features'], max_depth = grid.best_params_['max_depth'], random_state = seed)\n",
    "RF_fit = model2.fit(X, y)\n",
    "predictions = model2.predict(X2)\n",
    "predictions_df = pd.DataFrame(data=predictions, columns=['Prediction'])\n",
    "\n",
    "#feature importance\n",
    "feat_imp = pd.DataFrame(model2.feature_importances_,\n",
    "                        index=train.drop(['Unnamed: 0', 'Yields'], axis=1).columns,\n",
    "                        columns=['Feature_importances'])\n",
    "feat_imp = feat_imp.sort_values(by=['Feature_importances'], ascending = False)\n",
    "\n",
    "all_predictions = []\n",
    "for e in model2.estimators_:\n",
    "    all_predictions += [e.predict(X2)]\n",
    "\n",
    "variance = np.var(all_predictions, axis=0)\n",
    "variance_df = pd.DataFrame(data=variance, columns=['Variance'])\n",
    "\n",
    "assert len(variance) == len(predictions)\n",
    "initial_data = pd.DataFrame(data=array2, columns = list(unseen.columns.values))\n",
    "df = pd.concat([initial_data, predictions_df, variance_df], axis=1)\n",
    "\n",
    "#getting a list to organize sorting\n",
    "feat_imp_T = feat_imp.transpose()\n",
    "# feat_imp_T\n",
    "keys1 = list(feat_imp_T.keys())\n",
    "# keys1\n",
    "keys2 = list(feat_imp_T.keys())\n",
    "keys1.append('Prediction')\n",
    "keys2.append( 'Variance')\n",
    "\n",
    "\n",
    "#select the reaction (selecting for max everything)\n",
    "df_sorted = df.sort_values(by=[keys1[-1], keys1[0]], ascending=[False, False])\n",
    "preliminary = df_sorted.iloc[0:5]\n",
    "df_sorted2 = preliminary.sort_values(by=[keys2[-1], keys2[0]], ascending=[True, False])\n",
    "toPerform = df_sorted2.iloc[0]\n",
    "\n",
    "#save data\n",
    "feat_imp.to_csv('feature_importances.txt', sep= '\\t')\n",
    "toPerform.to_csv('selected_reaction.txt', sep = '\\t', header=False)\n",
    "df_sorted.to_csv('predictions.csv')\n",
    "filename3 = 'random_forest_model_grid.sav'\n",
    "dump(grid, filename3)\n",
    "\n",
    "\n",
    "print('\\nYou are all set! Have a good one, mate!')#all_comboss.csv\n",
    "print('\\nEnd:', time.strftime(\"%Y/%m/%d  %H:%M:%S\"))#train_data.csv\n"
   ]
  },
  {
   "cell_type": "markdown",
   "metadata": {},
   "source": [
    "# Try to use re-shuffle and drop column on Labmate-ai"
   ]
  },
  {
   "cell_type": "code",
   "execution_count": 8,
   "metadata": {},
   "outputs": [
    {
     "data": {
      "text/plain": [
       "[('base (equiv.)', -2.781185303359429),\n",
       " ('Cat (mol%)', -1.7043195051763342),\n",
       " ('i_PrOH (equiv)', -1.1031627717408246),\n",
       " ('Time (Hrs)', -0.6463229802400254),\n",
       " ('Ligan2Metal', -0.605653286201439),\n",
       " ('2meth (mmol)', -0.5366955580237105),\n",
       " ('Temperature (C)', -0.3005129312953876),\n",
       " ('concentration (M)', -0.2674401420930004),\n",
       " ('nap (mmol)', 0.0)]"
      ]
     },
     "execution_count": 8,
     "metadata": {},
     "output_type": "execute_result"
    }
   ],
   "source": [
    "# defining rmse as scoring criteria (any other criteria can be used in a similar manner)\n",
    "\n",
    "def score(x1,x2):\n",
    "    return metrics.mean_absolute_error(x1,x2)\n",
    "# defining feature importance function based on above logic\n",
    "def feat_imp(m, x, y, small_good = True):\n",
    "    \n",
    "# \"\"\"\n",
    "# m: random forest model\n",
    "# x: matrix of independent variables\n",
    "# y: output variable\n",
    "# small__good: True if smaller prediction score is better\n",
    "# \"\"\"\n",
    "    score_list = {} \n",
    "    score_list['original'] = score(m.predict(x.values), y) \n",
    "    imp = {} \n",
    "    for i in range(len(x.columns)): \n",
    "        rand_idx = np.random.permutation(len(x)) # randomization\n",
    "        new_coli = x.values[rand_idx, i] \n",
    "        new_x = x.copy()            \n",
    "        new_x[x.columns[i]] = new_coli \n",
    "        score_list[x.columns[i]] = score(m.predict(new_x.values), y) \n",
    "        imp[x.columns[i]] = score_list['original']-score_list[x.columns[i]] # comparison with benchmark\n",
    "    if small_good:\n",
    "        return sorted(imp.items(), key=lambda x: x[1]) \n",
    "    else: return sorted(imp.items(), key=lambda x: x[1], reverse=True)\n",
    "    \n",
    "from sklearn import metrics\n",
    "X = train.iloc[:,1:-1] \n",
    "y = train.iloc[:,-1]\n",
    "importance = feat_imp(model2, X, y)\n",
    "importance"
   ]
  },
  {
   "cell_type": "code",
   "execution_count": 9,
   "metadata": {},
   "outputs": [
    {
     "data": {
      "image/png": "[encoded data removed]",
      "text/plain": [
       "<Figure size 1080x720 with 1 Axes>"
      ]
     },
     "metadata": {
      "needs_background": "light"
     },
     "output_type": "display_data"
    }
   ],
   "source": [
    "from sklearn.base import clone\n",
    "import seaborn as sns\n",
    "import sklearn.metrics as metrics\n",
    "\n",
    "def drop_col_feat_imp(model, X_train, y_train, random_state = 42):\n",
    "    \n",
    "    # clone the model to have the exact same specification as the one initially trained\n",
    "    model_clone = clone(model)\n",
    "    # set random_state for comparability\n",
    "    model_clone.random_state = random_state\n",
    "    # training and scoring the benchmark model\n",
    "    model_clone.fit(X_train, y_train)\n",
    "    y_pred = model_clone.predict(X_train)\n",
    "    benchmark_score = metrics.mean_absolute_error(y_train, y_pred) #benckmark是r^2分\n",
    "    # list for storing feature importances\n",
    "    importances = []\n",
    "    \n",
    "    # iterating over all columns and storing feature importance (difference between benchmark and new model)\n",
    "    for col in X_train.columns:\n",
    "        model_clone = clone(model)\n",
    "        model_clone.random_state = random_state\n",
    "        model_clone.fit(X_train.drop(col, axis = 1), y_train)\n",
    "        drop_col_score = model_clone.score(X_train.drop(col, axis = 1), y_train)\n",
    "        importances.append(benchmark_score - drop_col_score)\n",
    "    \n",
    "    importances_df = imp_df(X_train.columns, importances)\n",
    "    return importances_df\n",
    "\n",
    "# udfs ----\n",
    "\n",
    "# function for creating a feature importance dataframe\n",
    "def imp_df(column_names, importances):\n",
    "    df = pd.DataFrame({'feature': column_names,\n",
    "                       'feature_importance': importances}) \\\n",
    "           .sort_values('feature_importance', ascending = False) \\\n",
    "           .reset_index(drop = True)\n",
    "    return df\n",
    "\n",
    "# plotting a feature importance dataframe (horizontal barchart)\n",
    "def var_imp_plot(imp_df, title):\n",
    "    imp_df.columns = ['feature', 'feature_importance']\n",
    "    sns.barplot(x = 'feature_importance', y = 'feature', data = imp_df, orient = 'h', color = 'royalblue') \\\n",
    "       .set_title(title, fontsize = 20)\n",
    "  \n",
    "drop_imp = drop_col_feat_imp(model2, X, y)\n",
    "import matplotlib.pyplot as plt\n",
    "plt.figure(figsize=(15, 10))\n",
    "var_imp_plot(drop_imp, 'Drop Column feature importance: mean absolute error score')\n",
    "plt.show() "
   ]
  },
  {
   "cell_type": "code",
   "execution_count": null,
   "metadata": {},
   "outputs": [],
   "source": [
    "from treeinterpreter import treeinterpreter as ti\n",
    "\n",
    "selected_rows = [150]\n",
    "selected_df = X_train.iloc[selected_rows,:].values\n",
    "prediction, bias, contributions = ti.predict(model2, selected_df)\n",
    "\n",
    "for i in range(len(selected_rows)):\n",
    "    print(\"Row\", selected_rows[i])\n",
    "    print(\"Prediction:\", prediction[i], 'Actual Value:', y_train[selected_rows[i]])\n",
    "    print(\"Bias (trainset mean)\", bias[i])\n",
    "    print(\"Feature contributions:\")\n",
    "    for c, feature in sorted(zip(contributions[i], \n",
    "                                 X_train.columns), \n",
    "                             key=lambda x: -abs(x[0])):\n",
    "        print(feature, round(c, 2))\n",
    "    print(\"-\"*20) \n",
    "    \n",
    "contributions1 = pd.DataFrame(contributions, columns=X_train.columns)\n",
    "contributions1\n",
    "\n",
    "import matplotlib.pyplot as plt\n",
    "plt.figure(figsize=(8, 12))\n",
    "title = 'Index : 150'\n",
    "sns.barplot(data=contributions1.drop([1], axis=0),orient='h').set_title(title, fontsize = 20)\n",
    "plt.show()"
   ]
  }
 ],
 "metadata": {
  "kernelspec": {
   "display_name": "Python 3",
   "language": "python",
   "name": "python3"
  },
  "language_info": {
   "codemirror_mode": {
    "name": "ipython",
    "version": 3
   },
   "file_extension": ".py",
   "mimetype": "text/x-python",
   "name": "python",
   "nbconvert_exporter": "python",
   "pygments_lexer": "ipython3",
   "version": "3.7.3"
  },
  "varInspector": {
   "cols": {
    "lenName": 16,
    "lenType": 16,
    "lenVar": 40
   },
   "kernels_config": {
    "python": {
     "delete_cmd_postfix": "",
     "delete_cmd_prefix": "del ",
     "library": "var_list.py",
     "varRefreshCmd": "print(var_dic_list())"
    },
    "r": {
     "delete_cmd_postfix": ") ",
     "delete_cmd_prefix": "rm(",
     "library": "var_list.r",
     "varRefreshCmd": "cat(var_dic_list()) "
    }
   },
   "types_to_exclude": [
    "module",
    "function",
    "builtin_function_or_method",
    "instance",
    "_Feature"
   ],
   "window_display": false
  }
 },
 "nbformat": 4,
 "nbformat_minor": 2
}
