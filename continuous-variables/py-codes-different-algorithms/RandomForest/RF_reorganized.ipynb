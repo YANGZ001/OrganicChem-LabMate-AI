{
 "cells": [
  {
   "cell_type": "code",
   "execution_count": null,
   "metadata": {},
   "outputs": [],
   "source": []
  },
  {
   "cell_type": "code",
   "execution_count": null,
   "metadata": {},
   "outputs": [
    {
     "name": "stdout",
     "output_type": "stream",
     "text": [
      "Time starts at:  2019/07/25  23:09:02\n",
      "\n",
      "\n",
      "KFoldCV =  10\n",
      "\n",
      "\n"
     ]
    }
   ],
   "source": [
    "import numpy as np\n",
    "import pandas as pd\n",
    "from sklearn.model_selection import KFold\n",
    "from sklearn.ensemble import RandomForestRegressor\n",
    "from sklearn.model_selection import GridSearchCV\n",
    "from sklearn.externals.joblib import dump\n",
    "from sklearn.model_selection import train_test_split\n",
    "from sklearn.metrics import mean_absolute_error\n",
    "import matplotlib.pyplot as plt\n",
    "from sklearn.model_selection import cross_val_score\n",
    "import time\n",
    "print('Time starts at: ', time.strftime(\"%Y/%m/%d  %H:%M:%S\"))## 带日期的12小时格式\n",
    "print('\\n')\n",
    "\n",
    "\n",
    "#load data\n",
    "filename = 'train_data_16.csv'\n",
    "train = pd.read_csv(filename,engine='python')\n",
    "# train.shape\n",
    "array = train.values\n",
    "X = array[:,1:-1] #从第一列到倒数第二列\n",
    "# X.shape\n",
    "y = array[:,-1]\n",
    "# Y\n",
    "\n",
    "#General stuff\n",
    "seed = 1234\n",
    "nMAE_lst = list()\n",
    "for i in range(2,11):\n",
    "    i=10\n",
    "    print('KFoldCV = ', i)\n",
    "    print('\\n')\n",
    "    kfold = KFold(n_splits = i, random_state = seed)\n",
    "    scoring = 'neg_mean_absolute_error'\n",
    "    model = RandomForestRegressor(random_state=seed)\n",
    "\n",
    "    #Parameters to tune\n",
    "    estimators = np.linspace(10, 1050, 100,dtype='int') #100个从10-1050的数\n",
    "    # estimators\n",
    "    estimators_int = np.ndarray.tolist(estimators)\n",
    "    max_depth = np.linspace(1, 5, 5, dtype='int') #从1-10的10个数\n",
    "    # max_depth\n",
    "    max_depth_lst = np.ndarray.tolist(max_depth)\n",
    "    max_depth_lst.append(None)\n",
    "    param_grid = {'n_estimators':estimators_int, \n",
    "                  'max_features':('auto', 'sqrt','log2'), \n",
    "                  'max_depth':max_depth_lst,\n",
    "                  'min_samples_leaf': [1, 2, 3, 4, 5]\n",
    "                 }\n",
    "\n",
    "    #search best parameters and train\n",
    "    grid = GridSearchCV(estimator=model, param_grid=param_grid, scoring=scoring, cv=kfold, n_jobs=6)\n",
    "    grid_result = grid.fit(X, y)\n",
    "\n",
    "    #print the best data cranked out from the grid search\n",
    "    # np.savetxt('best_score', [\"best_score: %s\" % grid.best_score_, ], fmt ='%s')\n",
    "    print('best_score:', grid.best_score_) #scoring using neg_mean_absolute_error\n",
    "    print('\\n')\n",
    "    best_params = pd.DataFrame([grid.best_params_], columns=grid.best_params_.keys())\n",
    "    # best_params.to_csv('best_parameters.txt', sep= '\\t')\n",
    "    # np.savetxt('Records', [\"best_params: %s\" % grid.best_params_, ], fmt ='%s')\n",
    "    print('best_params:', grid.best_params_)\n",
    "    print('\\n')\n",
    "    \n",
    "    #Predict the future\n",
    "    model2 = grid.best_estimator_\n",
    "    # model2 = RandomForestRegressor(n_estimators = grid.best_params_['n_estimators'], max_features = grid.best_params_['max_features'], max_depth = grid.best_params_['max_depth'], random_state = seed)\n",
    "    RF_fit = model2.fit(X, y)\n",
    "#     predictions_y = model2.predict(test_X) #对每个test_X，模型有一个predictions\n",
    "#     predictions_df = pd.DataFrame(data=predictions_y, columns=['Prediction']) #model prediction\n",
    "\n",
    "    feat_imp = pd.DataFrame(model2.feature_importances_, index=['nap', '2meth', 'Ligan2Metal', 'Cat', 'base', 'i_PrOH', 'Time', 'Temperature', 'concentration'], columns=['Feature_importances'])\n",
    "    # feat_imp\n",
    "    feat_imp = feat_imp.sort_values(by=['Feature_importances'], ascending = False)\n",
    "    print('Feature_importances:', feat_imp)#特征重要性表格，按重要性排序\n",
    "    print('\\n')\n",
    "    # feat_imp.to_csv('feature_importances.txt', sep= '\\t')\n",
    "\n",
    "    #get individual tree preds\n",
    "#     all_predictions = []\n",
    "#     for e in model2.estimators_:\n",
    "#         all_predictions += [e.predict(test_X)]\n",
    "\n",
    "    #get variance and dataframe\n",
    "#     variance = np.var(all_predictions, axis=0)\n",
    "#     variance_df = pd.DataFrame(data=variance, columns=['Variance']) #variance from every estimator\n",
    "\n",
    "#     assert len(variance) == len(predictions_y)\n",
    "\n",
    "    #concatenate tables\n",
    "#     initial_data = pd.DataFrame(data=test_X, columns = ['nap', '2meth', 'Ligan2Metal', 'Cat', 'base', 'i_PrOH', 'Time', 'Temperature', 'concentration'])\n",
    "    # initial_data\n",
    "#     Neg_MAE = -mean_absolute_error(test_y, predictions_y)\n",
    "#     nMAE_lst.append(Neg_MAE)\n",
    "#     print(\"Neg_MAE:\", Neg_MAE)\n",
    "#     print('\\n')\n",
    "#     with open('Records_Neg_MAE.txt', 'a') as f:\n",
    "#         content = 'KFoldCV = '+str(i)+'\\n'+'Neg_MAE: '+str(Neg_MAE)+'\\n'\n",
    "#         f.write(content)\n",
    "#         f.write('***********\\n')\n",
    "#         f.close()\n",
    "#     df = pd.concat([initial_data, predictions_df, variance_df], axis=1)\n",
    "#     print(\"initial_data+predictions+variance:\", df)\n",
    "#     print('\\n')\n",
    "    for k in range(2, 11):\n",
    "        scores = cross_val_score(model2, X, y, cv=k, scoring='neg_mean_absolute_error')\n",
    "        print('cross_val_score ,cv={},score = {}'.format(k, scores.mean()))\n",
    "    print('You are awesome! Man!')\n",
    "    print('\\n')\n",
    "    print(time.strftime(\"%Y/%m/%d  %H:%M:%S\"))## 带日期的12小时格式\n",
    "    print('\\n')\n",
    "# plt.bar(range(len(nMAE_lst)), nMAE_lst)\n",
    "# plt.title('Learning bar of neg_mean_absolute_error')\n",
    "# plt.savefig('Learning bar of neg_mean_absolute_error')\n"
   ]
  },
  {
   "cell_type": "code",
   "execution_count": null,
   "metadata": {},
   "outputs": [],
   "source": []
  },
  {
   "cell_type": "code",
   "execution_count": null,
   "metadata": {},
   "outputs": [],
   "source": []
  },
  {
   "cell_type": "code",
   "execution_count": 1,
   "metadata": {},
   "outputs": [
    {
     "ename": "SyntaxError",
     "evalue": "invalid syntax (<ipython-input-1-13d92eaf7845>, line 1)",
     "output_type": "error",
     "traceback": [
      "\u001b[1;36m  File \u001b[1;32m\"<ipython-input-1-13d92eaf7845>\"\u001b[1;36m, line \u001b[1;32m1\u001b[0m\n\u001b[1;33m    python -m pip install jupyter_contrib_nbextensions\u001b[0m\n\u001b[1;37m                ^\u001b[0m\n\u001b[1;31mSyntaxError\u001b[0m\u001b[1;31m:\u001b[0m invalid syntax\n"
     ]
    }
   ],
   "source": [
    "python -m pip install jupyter_contrib_nbextensions"
   ]
  },
  {
   "cell_type": "code",
   "execution_count": null,
   "metadata": {},
   "outputs": [],
   "source": []
  },
  {
   "cell_type": "code",
   "execution_count": null,
   "metadata": {},
   "outputs": [],
   "source": []
  },
  {
   "cell_type": "code",
   "execution_count": null,
   "metadata": {},
   "outputs": [],
   "source": []
  },
  {
   "cell_type": "code",
   "execution_count": null,
   "metadata": {},
   "outputs": [],
   "source": []
  }
 ],
 "metadata": {
  "kernelspec": {
   "display_name": "Python 3",
   "language": "python",
   "name": "python3"
  },
  "language_info": {
   "codemirror_mode": {
    "name": "ipython",
    "version": 3
   },
   "file_extension": ".py",
   "mimetype": "text/x-python",
   "name": "python",
   "nbconvert_exporter": "python",
   "pygments_lexer": "ipython3",
   "version": "3.7.1"
  },
  "varInspector": {
   "cols": {
    "lenName": 16,
    "lenType": 16,
    "lenVar": 40
   },
   "kernels_config": {
    "python": {
     "delete_cmd_postfix": "",
     "delete_cmd_prefix": "del ",
     "library": "var_list.py",
     "varRefreshCmd": "print(var_dic_list())"
    },
    "r": {
     "delete_cmd_postfix": ") ",
     "delete_cmd_prefix": "rm(",
     "library": "var_list.r",
     "varRefreshCmd": "cat(var_dic_list()) "
    }
   },
   "types_to_exclude": [
    "module",
    "function",
    "builtin_function_or_method",
    "instance",
    "_Feature"
   ],
   "window_display": false
  }
 },
 "nbformat": 4,
 "nbformat_minor": 2
}
