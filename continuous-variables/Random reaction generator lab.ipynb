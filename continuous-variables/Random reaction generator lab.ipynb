{
 "cells": [
  {
   "cell_type": "markdown",
   "metadata": {},
   "source": [
    "# Please read me first.\n",
    "- File has to be .xlsx"
   ]
  },
  {
   "cell_type": "code",
   "execution_count": 2,
   "metadata": {
    "scrolled": false
   },
   "outputs": [
    {
     "name": "stdout",
     "output_type": "stream",
     "text": [
      "Ok, your filename is: space.xlsx. Loading!\n",
      "\n",
      "I am calculating...\n",
      "\n",
      "Good! The whole chemical space file is: all_combos.xlsx\n",
      "\n",
      "Choosing reactions randomly...\n",
      "Its done! Your 10 train data is in the file: train_data.xlsx\n"
     ]
    }
   ],
   "source": [
    "import pandas as pd\n",
    "import itertools\n",
    "filename = input('Please input the chemical space filename:')\n",
    "sample_num = int(input('How many reactions do you want to choose for initiation? '))\n",
    "# filename = 'space.xlsx'\n",
    "# sample_num = 10\n",
    "print('Ok, your filename is: %s. Loading!'% filename)\n",
    "# filename = 'try.xlsx'\n",
    "df = pd.read_excel(filename)\n",
    "combinations=[]\n",
    "\n",
    "for i, item in enumerate(df.columns):\n",
    "    array = df.iloc[:,i]\n",
    "    lst = array[array.notnull()].tolist()\n",
    "    combinations.append(lst)\n",
    "print('\\nI am calculating...')\n",
    "df2 = pd.DataFrame(list(itertools.product(*combinations)), columns=df.columns)\n",
    "df2.to_excel('all_combos.xlsx', index=False)\n",
    "print('\\nGood! The whole chemical space file is: all_combos.xlsx')\n",
    "print('\\nChoosing reactions randomly...')\n",
    "\n",
    "#df.sample(frac=1).drop_duplicates(['User'])\n",
    "# To sample, first choose \n",
    "random_data = df2.sample(n=sample_num, random_state=1)\n",
    "df_random_data = pd.DataFrame(random_data)\n",
    "output_name = 'train_data.xlsx'\n",
    "df_random_data.to_excel(output_name, index=False,\n",
    "                      header = df.columns)\n",
    "print('Its done! Your %d train data is in the file: %s'%(sample_num, output_name))"
   ]
  }
 ],
 "metadata": {
  "kernelspec": {
   "display_name": "Python 3",
   "language": "python",
   "name": "python3"
  },
  "language_info": {
   "codemirror_mode": {
    "name": "ipython",
    "version": 3
   },
   "file_extension": ".py",
   "mimetype": "text/x-python",
   "name": "python",
   "nbconvert_exporter": "python",
   "pygments_lexer": "ipython3",
   "version": "3.7.3"
  },
  "varInspector": {
   "cols": {
    "lenName": 16,
    "lenType": 16,
    "lenVar": 40
   },
   "kernels_config": {
    "python": {
     "delete_cmd_postfix": "",
     "delete_cmd_prefix": "del ",
     "library": "var_list.py",
     "varRefreshCmd": "print(var_dic_list())"
    },
    "r": {
     "delete_cmd_postfix": ") ",
     "delete_cmd_prefix": "rm(",
     "library": "var_list.r",
     "varRefreshCmd": "cat(var_dic_list()) "
    }
   },
   "types_to_exclude": [
    "module",
    "function",
    "builtin_function_or_method",
    "instance",
    "_Feature"
   ],
   "window_display": false
  }
 },
 "nbformat": 4,
 "nbformat_minor": 2
}
